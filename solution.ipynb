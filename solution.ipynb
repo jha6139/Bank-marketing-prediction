{
 "cells": [
  {
   "cell_type": "markdown",
   "metadata": {},
   "source": [
    "#  <span style=\"color:black\"> ML- BANK MARKETING PREDICTION  </span>\n"
   ]
  },
  {
   "cell_type": "code",
   "execution_count": 2,
   "metadata": {},
   "outputs": [],
   "source": [
    "import pandas as pd\n",
    "import seaborn as sns\n",
    "import matplotlib.pyplot as plt\n",
    "import os\n",
    "import warnings\n",
    "warnings.simplefilter(\"ignore\")"
   ]
  },
  {
   "cell_type": "code",
   "execution_count": 1,
   "metadata": {},
   "outputs": [
    {
     "ename": "NameError",
     "evalue": "name 'pd' is not defined",
     "output_type": "error",
     "traceback": [
      "\u001b[1;31m---------------------------------------------------------------------------\u001b[0m",
      "\u001b[1;31mNameError\u001b[0m                                 Traceback (most recent call last)",
      "\u001b[1;32m<ipython-input-1-91c7699c1225>\u001b[0m in \u001b[0;36m<module>\u001b[1;34m\u001b[0m\n\u001b[1;32m----> 1\u001b[1;33m \u001b[0mdata\u001b[0m \u001b[1;33m=\u001b[0m \u001b[0mpd\u001b[0m\u001b[1;33m.\u001b[0m\u001b[0mread_csv\u001b[0m\u001b[1;33m(\u001b[0m\u001b[1;34m\"C:/Users/bank-marketing.csv\"\u001b[0m\u001b[1;33m)\u001b[0m\u001b[1;33m\u001b[0m\u001b[1;33m\u001b[0m\u001b[0m\n\u001b[0m",
      "\u001b[1;31mNameError\u001b[0m: name 'pd' is not defined"
     ]
    }
   ],
   "source": [
    "data = pd.read_csv(\"C:/Users/bank-marketing.csv\")"
   ]
  },
  {
   "cell_type": "code",
   "execution_count": 4,
   "metadata": {},
   "outputs": [
    {
     "data": {
      "text/html": [
       "<div>\n",
       "<style scoped>\n",
       "    .dataframe tbody tr th:only-of-type {\n",
       "        vertical-align: middle;\n",
       "    }\n",
       "\n",
       "    .dataframe tbody tr th {\n",
       "        vertical-align: top;\n",
       "    }\n",
       "\n",
       "    .dataframe thead th {\n",
       "        text-align: right;\n",
       "    }\n",
       "</style>\n",
       "<table border=\"1\" class=\"dataframe\">\n",
       "  <thead>\n",
       "    <tr style=\"text-align: right;\">\n",
       "      <th></th>\n",
       "      <th>age</th>\n",
       "      <th>job</th>\n",
       "      <th>salary</th>\n",
       "      <th>marital</th>\n",
       "      <th>education</th>\n",
       "      <th>targeted</th>\n",
       "      <th>default</th>\n",
       "      <th>balance</th>\n",
       "      <th>housing</th>\n",
       "      <th>loan</th>\n",
       "      <th>contact</th>\n",
       "      <th>day</th>\n",
       "      <th>month</th>\n",
       "      <th>duration</th>\n",
       "      <th>campaign</th>\n",
       "      <th>pdays</th>\n",
       "      <th>previous</th>\n",
       "      <th>poutcome</th>\n",
       "      <th>response</th>\n",
       "    </tr>\n",
       "  </thead>\n",
       "  <tbody>\n",
       "    <tr>\n",
       "      <td>0</td>\n",
       "      <td>58</td>\n",
       "      <td>management</td>\n",
       "      <td>100000</td>\n",
       "      <td>married</td>\n",
       "      <td>tertiary</td>\n",
       "      <td>yes</td>\n",
       "      <td>no</td>\n",
       "      <td>2143</td>\n",
       "      <td>yes</td>\n",
       "      <td>no</td>\n",
       "      <td>unknown</td>\n",
       "      <td>5</td>\n",
       "      <td>may</td>\n",
       "      <td>261</td>\n",
       "      <td>1</td>\n",
       "      <td>-1</td>\n",
       "      <td>0</td>\n",
       "      <td>unknown</td>\n",
       "      <td>no</td>\n",
       "    </tr>\n",
       "    <tr>\n",
       "      <td>1</td>\n",
       "      <td>44</td>\n",
       "      <td>technician</td>\n",
       "      <td>60000</td>\n",
       "      <td>single</td>\n",
       "      <td>secondary</td>\n",
       "      <td>yes</td>\n",
       "      <td>no</td>\n",
       "      <td>29</td>\n",
       "      <td>yes</td>\n",
       "      <td>no</td>\n",
       "      <td>unknown</td>\n",
       "      <td>5</td>\n",
       "      <td>may</td>\n",
       "      <td>151</td>\n",
       "      <td>1</td>\n",
       "      <td>-1</td>\n",
       "      <td>0</td>\n",
       "      <td>unknown</td>\n",
       "      <td>no</td>\n",
       "    </tr>\n",
       "    <tr>\n",
       "      <td>2</td>\n",
       "      <td>33</td>\n",
       "      <td>entrepreneur</td>\n",
       "      <td>120000</td>\n",
       "      <td>married</td>\n",
       "      <td>secondary</td>\n",
       "      <td>yes</td>\n",
       "      <td>no</td>\n",
       "      <td>2</td>\n",
       "      <td>yes</td>\n",
       "      <td>yes</td>\n",
       "      <td>unknown</td>\n",
       "      <td>5</td>\n",
       "      <td>may</td>\n",
       "      <td>76</td>\n",
       "      <td>1</td>\n",
       "      <td>-1</td>\n",
       "      <td>0</td>\n",
       "      <td>unknown</td>\n",
       "      <td>no</td>\n",
       "    </tr>\n",
       "    <tr>\n",
       "      <td>3</td>\n",
       "      <td>47</td>\n",
       "      <td>blue-collar</td>\n",
       "      <td>20000</td>\n",
       "      <td>married</td>\n",
       "      <td>unknown</td>\n",
       "      <td>no</td>\n",
       "      <td>no</td>\n",
       "      <td>1506</td>\n",
       "      <td>yes</td>\n",
       "      <td>no</td>\n",
       "      <td>unknown</td>\n",
       "      <td>5</td>\n",
       "      <td>may</td>\n",
       "      <td>92</td>\n",
       "      <td>1</td>\n",
       "      <td>-1</td>\n",
       "      <td>0</td>\n",
       "      <td>unknown</td>\n",
       "      <td>no</td>\n",
       "    </tr>\n",
       "    <tr>\n",
       "      <td>4</td>\n",
       "      <td>33</td>\n",
       "      <td>unknown</td>\n",
       "      <td>0</td>\n",
       "      <td>single</td>\n",
       "      <td>unknown</td>\n",
       "      <td>no</td>\n",
       "      <td>no</td>\n",
       "      <td>1</td>\n",
       "      <td>no</td>\n",
       "      <td>no</td>\n",
       "      <td>unknown</td>\n",
       "      <td>5</td>\n",
       "      <td>may</td>\n",
       "      <td>198</td>\n",
       "      <td>1</td>\n",
       "      <td>-1</td>\n",
       "      <td>0</td>\n",
       "      <td>unknown</td>\n",
       "      <td>no</td>\n",
       "    </tr>\n",
       "  </tbody>\n",
       "</table>\n",
       "</div>"
      ],
      "text/plain": [
       "   age           job  salary  marital  education targeted default  balance  \\\n",
       "0   58    management  100000  married   tertiary      yes      no     2143   \n",
       "1   44    technician   60000   single  secondary      yes      no       29   \n",
       "2   33  entrepreneur  120000  married  secondary      yes      no        2   \n",
       "3   47   blue-collar   20000  married    unknown       no      no     1506   \n",
       "4   33       unknown       0   single    unknown       no      no        1   \n",
       "\n",
       "  housing loan  contact  day month  duration  campaign  pdays  previous  \\\n",
       "0     yes   no  unknown    5   may       261         1     -1         0   \n",
       "1     yes   no  unknown    5   may       151         1     -1         0   \n",
       "2     yes  yes  unknown    5   may        76         1     -1         0   \n",
       "3     yes   no  unknown    5   may        92         1     -1         0   \n",
       "4      no   no  unknown    5   may       198         1     -1         0   \n",
       "\n",
       "  poutcome response  \n",
       "0  unknown       no  \n",
       "1  unknown       no  \n",
       "2  unknown       no  \n",
       "3  unknown       no  \n",
       "4  unknown       no  "
      ]
     },
     "execution_count": 4,
     "metadata": {},
     "output_type": "execute_result"
    }
   ],
   "source": [
    "data.head()"
   ]
  },
  {
   "cell_type": "code",
   "execution_count": 7,
   "metadata": {},
   "outputs": [
    {
     "data": {
      "text/plain": [
       "(45211, 19)"
      ]
     },
     "execution_count": 7,
     "metadata": {},
     "output_type": "execute_result"
    }
   ],
   "source": [
    "#There are 45211 Rows and 19 Columns in the Dataset\n",
    "data.shape"
   ]
  },
  {
   "cell_type": "code",
   "execution_count": 8,
   "metadata": {},
   "outputs": [
    {
     "data": {
      "text/plain": [
       "Index(['age', 'job', 'salary', 'marital', 'education', 'targeted', 'default',\n",
       "       'balance', 'housing', 'loan', 'contact', 'day', 'month', 'duration',\n",
       "       'campaign', 'pdays', 'previous', 'poutcome', 'response'],\n",
       "      dtype='object')"
      ]
     },
     "execution_count": 8,
     "metadata": {},
     "output_type": "execute_result"
    }
   ],
   "source": [
    "#Checking Column Names\n",
    "data.columns"
   ]
  },
  {
   "cell_type": "code",
   "execution_count": 9,
   "metadata": {},
   "outputs": [
    {
     "name": "stdout",
     "output_type": "stream",
     "text": [
      "Missing values in This dataset age          0\n",
      "job          0\n",
      "salary       0\n",
      "marital      0\n",
      "education    0\n",
      "targeted     0\n",
      "default      0\n",
      "balance      0\n",
      "housing      0\n",
      "loan         0\n",
      "contact      0\n",
      "day          0\n",
      "month        0\n",
      "duration     0\n",
      "campaign     0\n",
      "pdays        0\n",
      "previous     0\n",
      "poutcome     0\n",
      "response     0\n",
      "dtype: int64\n"
     ]
    }
   ],
   "source": [
    "#Checking all the missing values in the Dataset\n",
    "\n",
    "'''Since there are no missing values in the dataset, therefore we proceed for analysis'''\n",
    "\n",
    "\n",
    "print(\"Missing values in This dataset {}\".format(data.isnull().sum()))"
   ]
  },
  {
   "cell_type": "code",
   "execution_count": 7,
   "metadata": {},
   "outputs": [
    {
     "data": {
      "text/plain": [
       "<matplotlib.axes._subplots.AxesSubplot at 0x21c931e2948>"
      ]
     },
     "execution_count": 7,
     "metadata": {},
     "output_type": "execute_result"
    },
    {
     "data": {
      "image/png": "[encoded data removed]",
      "text/plain": [
       "<Figure size 432x288 with 2 Axes>"
      ]
     },
     "metadata": {
      "needs_background": "light"
     },
     "output_type": "display_data"
    }
   ],
   "source": [
    "#Checking all the missing values in the dataset Via Heatmap\n",
    "\n",
    "'''There are no missing values in the dataset '''\n",
    "\n",
    "sns.heatmap(data.isnull())"
   ]
  },
  {
   "cell_type": "markdown",
   "metadata": {},
   "source": [
    "### Describe the pdays column, make note of the mean, median and minimum values. Anything fishy in the values? "
   ]
  },
  {
   "cell_type": "code",
   "execution_count": 8,
   "metadata": {},
   "outputs": [
    {
     "data": {
      "text/html": [
       "<div>\n",
       "<style scoped>\n",
       "    .dataframe tbody tr th:only-of-type {\n",
       "        vertical-align: middle;\n",
       "    }\n",
       "\n",
       "    .dataframe tbody tr th {\n",
       "        vertical-align: top;\n",
       "    }\n",
       "\n",
       "    .dataframe thead th {\n",
       "        text-align: right;\n",
       "    }\n",
       "</style>\n",
       "<table border=\"1\" class=\"dataframe\">\n",
       "  <thead>\n",
       "    <tr style=\"text-align: right;\">\n",
       "      <th></th>\n",
       "      <th>age</th>\n",
       "      <th>salary</th>\n",
       "      <th>balance</th>\n",
       "      <th>day</th>\n",
       "      <th>duration</th>\n",
       "      <th>campaign</th>\n",
       "      <th>pdays</th>\n",
       "      <th>previous</th>\n",
       "    </tr>\n",
       "  </thead>\n",
       "  <tbody>\n",
       "    <tr>\n",
       "      <td>count</td>\n",
       "      <td>45211.000000</td>\n",
       "      <td>45211.000000</td>\n",
       "      <td>45211.000000</td>\n",
       "      <td>45211.000000</td>\n",
       "      <td>45211.000000</td>\n",
       "      <td>45211.000000</td>\n",
       "      <td>45211.000000</td>\n",
       "      <td>45211.000000</td>\n",
       "    </tr>\n",
       "    <tr>\n",
       "      <td>mean</td>\n",
       "      <td>40.936210</td>\n",
       "      <td>57006.171065</td>\n",
       "      <td>1362.272058</td>\n",
       "      <td>15.806419</td>\n",
       "      <td>258.163080</td>\n",
       "      <td>2.763841</td>\n",
       "      <td>40.197828</td>\n",
       "      <td>0.580323</td>\n",
       "    </tr>\n",
       "    <tr>\n",
       "      <td>std</td>\n",
       "      <td>10.618762</td>\n",
       "      <td>32085.718415</td>\n",
       "      <td>3044.765829</td>\n",
       "      <td>8.322476</td>\n",
       "      <td>257.527812</td>\n",
       "      <td>3.098021</td>\n",
       "      <td>100.128746</td>\n",
       "      <td>2.303441</td>\n",
       "    </tr>\n",
       "    <tr>\n",
       "      <td>min</td>\n",
       "      <td>18.000000</td>\n",
       "      <td>0.000000</td>\n",
       "      <td>-8019.000000</td>\n",
       "      <td>1.000000</td>\n",
       "      <td>0.000000</td>\n",
       "      <td>1.000000</td>\n",
       "      <td>-1.000000</td>\n",
       "      <td>0.000000</td>\n",
       "    </tr>\n",
       "    <tr>\n",
       "      <td>25%</td>\n",
       "      <td>33.000000</td>\n",
       "      <td>20000.000000</td>\n",
       "      <td>72.000000</td>\n",
       "      <td>8.000000</td>\n",
       "      <td>103.000000</td>\n",
       "      <td>1.000000</td>\n",
       "      <td>-1.000000</td>\n",
       "      <td>0.000000</td>\n",
       "    </tr>\n",
       "    <tr>\n",
       "      <td>50%</td>\n",
       "      <td>39.000000</td>\n",
       "      <td>60000.000000</td>\n",
       "      <td>448.000000</td>\n",
       "      <td>16.000000</td>\n",
       "      <td>180.000000</td>\n",
       "      <td>2.000000</td>\n",
       "      <td>-1.000000</td>\n",
       "      <td>0.000000</td>\n",
       "    </tr>\n",
       "    <tr>\n",
       "      <td>75%</td>\n",
       "      <td>48.000000</td>\n",
       "      <td>70000.000000</td>\n",
       "      <td>1428.000000</td>\n",
       "      <td>21.000000</td>\n",
       "      <td>319.000000</td>\n",
       "      <td>3.000000</td>\n",
       "      <td>-1.000000</td>\n",
       "      <td>0.000000</td>\n",
       "    </tr>\n",
       "    <tr>\n",
       "      <td>max</td>\n",
       "      <td>95.000000</td>\n",
       "      <td>120000.000000</td>\n",
       "      <td>102127.000000</td>\n",
       "      <td>31.000000</td>\n",
       "      <td>4918.000000</td>\n",
       "      <td>63.000000</td>\n",
       "      <td>871.000000</td>\n",
       "      <td>275.000000</td>\n",
       "    </tr>\n",
       "  </tbody>\n",
       "</table>\n",
       "</div>"
      ],
      "text/plain": [
       "                age         salary        balance           day      duration  \\\n",
       "count  45211.000000   45211.000000   45211.000000  45211.000000  45211.000000   \n",
       "mean      40.936210   57006.171065    1362.272058     15.806419    258.163080   \n",
       "std       10.618762   32085.718415    3044.765829      8.322476    257.527812   \n",
       "min       18.000000       0.000000   -8019.000000      1.000000      0.000000   \n",
       "25%       33.000000   20000.000000      72.000000      8.000000    103.000000   \n",
       "50%       39.000000   60000.000000     448.000000     16.000000    180.000000   \n",
       "75%       48.000000   70000.000000    1428.000000     21.000000    319.000000   \n",
       "max       95.000000  120000.000000  102127.000000     31.000000   4918.000000   \n",
       "\n",
       "           campaign         pdays      previous  \n",
       "count  45211.000000  45211.000000  45211.000000  \n",
       "mean       2.763841     40.197828      0.580323  \n",
       "std        3.098021    100.128746      2.303441  \n",
       "min        1.000000     -1.000000      0.000000  \n",
       "25%        1.000000     -1.000000      0.000000  \n",
       "50%        2.000000     -1.000000      0.000000  \n",
       "75%        3.000000     -1.000000      0.000000  \n",
       "max       63.000000    871.000000    275.000000  "
      ]
     },
     "execution_count": 8,
     "metadata": {},
     "output_type": "execute_result"
    }
   ],
   "source": [
    "data.describe()"
   ]
  },
  {
   "cell_type": "code",
   "execution_count": 9,
   "metadata": {},
   "outputs": [
    {
     "data": {
      "text/plain": [
       "<matplotlib.axes._subplots.AxesSubplot at 0x21c93181848>"
      ]
     },
     "execution_count": 9,
     "metadata": {},
     "output_type": "execute_result"
    },
    {
     "data": {
      "image/png": "[encoded data removed]",
      "text/plain": [
       "<Figure size 432x288 with 1 Axes>"
      ]
     },
     "metadata": {
      "needs_background": "light"
     },
     "output_type": "display_data"
    }
   ],
   "source": [
    "sns.violinplot(data['pdays'])"
   ]
  },
  {
   "cell_type": "code",
   "execution_count": 10,
   "metadata": {},
   "outputs": [
    {
     "name": "stdout",
     "output_type": "stream",
     "text": [
      "median -1.0\n",
      "mean: 40.19782796222158\n",
      "mode: 0   -1\n",
      "dtype: int64\n"
     ]
    }
   ],
   "source": [
    "print('median',data.pdays.median())\n",
    "print('mean:',data.pdays.mean())\n",
    "print('mode:',data.pdays.mode())"
   ]
  },
  {
   "cell_type": "markdown",
   "metadata": {},
   "source": [
    "### Describe the pdays column again, this time limiting yourself to the relevant values of pdays. How different are the mean and the median values? "
   ]
  },
  {
   "cell_type": "code",
   "execution_count": 11,
   "metadata": {},
   "outputs": [
    {
     "data": {
      "text/plain": [
       "-1      36954\n",
       " 182      167\n",
       " 92       147\n",
       " 183      126\n",
       " 91       126\n",
       "        ...  \n",
       " 749        1\n",
       " 717        1\n",
       " 589        1\n",
       " 493        1\n",
       " 32         1\n",
       "Name: pdays, Length: 559, dtype: int64"
      ]
     },
     "execution_count": 11,
     "metadata": {},
     "output_type": "execute_result"
    }
   ],
   "source": [
    "data.pdays.value_counts()"
   ]
  },
  {
   "cell_type": "code",
   "execution_count": 12,
   "metadata": {},
   "outputs": [],
   "source": [
    "#Considering all positive values in pdays columns\n",
    "dataAP = data[data.pdays != -1]"
   ]
  },
  {
   "cell_type": "code",
   "execution_count": 13,
   "metadata": {},
   "outputs": [
    {
     "data": {
      "text/plain": [
       "<matplotlib.axes._subplots.AxesSubplot at 0x21c939a9a08>"
      ]
     },
     "execution_count": 13,
     "metadata": {},
     "output_type": "execute_result"
    },
    {
     "data": {
      "image/png": "[encoded data removed]",
      "text/plain": [
       "<Figure size 432x288 with 1 Axes>"
      ]
     },
     "metadata": {
      "needs_background": "light"
     },
     "output_type": "display_data"
    }
   ],
   "source": [
    "#Plotted the pdays value via seaborn violinplot to check the probability density of data\n",
    "sns.violinplot(dataAP.pdays)"
   ]
  },
  {
   "cell_type": "code",
   "execution_count": 14,
   "metadata": {},
   "outputs": [
    {
     "name": "stdout",
     "output_type": "stream",
     "text": [
      "median 194.0\n",
      "mean: 224.57769165556496\n",
      "mode: 0    182\n",
      "dtype: int64\n"
     ]
    }
   ],
   "source": [
    "#As there are no values for customers who were not approached ( -1). The mean median and mode have changed significantly\n",
    "print('median',dataAP.pdays.median())\n",
    "print('mean:',dataAP.pdays.mean())\n",
    "print('mode:',dataAP.pdays.mode())"
   ]
  },
  {
   "cell_type": "markdown",
   "metadata": {},
   "source": [
    "### Plot a horizontal bar graph with the median values of balance for each education level value. Which group has the highest median? "
   ]
  },
  {
   "cell_type": "code",
   "execution_count": 15,
   "metadata": {},
   "outputs": [
    {
     "data": {
      "text/plain": [
       "count     45211.000000\n",
       "mean       1362.272058\n",
       "std        3044.765829\n",
       "min       -8019.000000\n",
       "25%          72.000000\n",
       "50%         448.000000\n",
       "75%        1428.000000\n",
       "max      102127.000000\n",
       "Name: balance, dtype: float64"
      ]
     },
     "execution_count": 15,
     "metadata": {},
     "output_type": "execute_result"
    }
   ],
   "source": [
    "data.balance.describe()"
   ]
  },
  {
   "cell_type": "code",
   "execution_count": 16,
   "metadata": {},
   "outputs": [
    {
     "data": {
      "text/plain": [
       "Index(['age', 'job', 'salary', 'marital', 'education', 'targeted', 'default',\n",
       "       'balance', 'housing', 'loan', 'contact', 'day', 'month', 'duration',\n",
       "       'campaign', 'pdays', 'previous', 'poutcome', 'response'],\n",
       "      dtype='object')"
      ]
     },
     "execution_count": 16,
     "metadata": {},
     "output_type": "execute_result"
    }
   ],
   "source": [
    "data.columns"
   ]
  },
  {
   "cell_type": "code",
   "execution_count": 17,
   "metadata": {},
   "outputs": [
    {
     "data": {
      "text/plain": [
       "secondary    23202\n",
       "tertiary     13301\n",
       "primary       6851\n",
       "unknown       1857\n",
       "Name: education, dtype: int64"
      ]
     },
     "execution_count": 17,
     "metadata": {},
     "output_type": "execute_result"
    }
   ],
   "source": [
    "data.education.value_counts()"
   ]
  },
  {
   "cell_type": "code",
   "execution_count": 18,
   "metadata": {},
   "outputs": [
    {
     "data": {
      "text/plain": [
       "<matplotlib.axes._subplots.AxesSubplot at 0x21c93a0e688>"
      ]
     },
     "execution_count": 18,
     "metadata": {},
     "output_type": "execute_result"
    },
    {
     "data": {
      "image/png": "[encoded data removed]",
      "text/plain": [
       "<Figure size 432x288 with 1 Axes>"
      ]
     },
     "metadata": {
      "needs_background": "light"
     },
     "output_type": "display_data"
    }
   ],
   "source": [
    "#Its easily evident from the below plot that Tertiary group has the highest median in compared to others\n",
    "sns.barplot(\"balance\",\"education\",data=data)"
   ]
  },
  {
   "cell_type": "markdown",
   "metadata": {},
   "source": [
    "### Make a box plot for pdays. Do you see any outliers? "
   ]
  },
  {
   "cell_type": "code",
   "execution_count": 19,
   "metadata": {},
   "outputs": [
    {
     "name": "stdout",
     "output_type": "stream",
     "text": [
      "outliers with -1\n"
     ]
    },
    {
     "data": {
      "image/png": "[encoded data removed]",
      "text/plain": [
       "<Figure size 432x288 with 1 Axes>"
      ]
     },
     "metadata": {
      "needs_background": "light"
     },
     "output_type": "display_data"
    }
   ],
   "source": [
    "sns.boxplot(data.pdays)\n",
    "print('outliers with -1')"
   ]
  },
  {
   "cell_type": "code",
   "execution_count": 20,
   "metadata": {},
   "outputs": [
    {
     "name": "stdout",
     "output_type": "stream",
     "text": [
      "outliers without -1\n"
     ]
    },
    {
     "data": {
      "image/png": "[encoded data removed]",
      "text/plain": [
       "<Figure size 432x288 with 1 Axes>"
      ]
     },
     "metadata": {
      "needs_background": "light"
     },
     "output_type": "display_data"
    }
   ],
   "source": [
    "#Yes,there are outliers in pdays\n",
    "sns.boxplot(dataAP.pdays)\n",
    "print('outliers without -1')"
   ]
  },
  {
   "cell_type": "markdown",
   "metadata": {},
   "source": [
    "# EDA"
   ]
  },
  {
   "cell_type": "code",
   "execution_count": 21,
   "metadata": {},
   "outputs": [
    {
     "data": {
      "text/plain": [
       "<matplotlib.axes._subplots.AxesSubplot at 0x21c93b505c8>"
      ]
     },
     "execution_count": 21,
     "metadata": {},
     "output_type": "execute_result"
    },
    {
     "data": {
      "image/png": "[encoded data removed]",
      "text/plain": [
       "<Figure size 1080x1080 with 2 Axes>"
      ]
     },
     "metadata": {
      "needs_background": "light"
     },
     "output_type": "display_data"
    }
   ],
   "source": [
    "#This shows the corelation between all columns \n",
    "plt.figure(figsize=(15,15))\n",
    "sns.heatmap(data.corr(),square=True,annot=True,cmap= 'twilight_shifted')"
   ]
  },
  {
   "cell_type": "code",
   "execution_count": 22,
   "metadata": {},
   "outputs": [
    {
     "name": "stdout",
     "output_type": "stream",
     "text": [
      "<class 'pandas.core.frame.DataFrame'>\n",
      "RangeIndex: 45211 entries, 0 to 45210\n",
      "Data columns (total 19 columns):\n",
      "age          45211 non-null int64\n",
      "job          45211 non-null object\n",
      "salary       45211 non-null int64\n",
      "marital      45211 non-null object\n",
      "education    45211 non-null object\n",
      "targeted     45211 non-null object\n",
      "default      45211 non-null object\n",
      "balance      45211 non-null int64\n",
      "housing      45211 non-null object\n",
      "loan         45211 non-null object\n",
      "contact      45211 non-null object\n",
      "day          45211 non-null int64\n",
      "month        45211 non-null object\n",
      "duration     45211 non-null int64\n",
      "campaign     45211 non-null int64\n",
      "pdays        45211 non-null int64\n",
      "previous     45211 non-null int64\n",
      "poutcome     45211 non-null object\n",
      "response     45211 non-null object\n",
      "dtypes: int64(8), object(11)\n",
      "memory usage: 6.6+ MB\n"
     ]
    }
   ],
   "source": [
    "data.info()"
   ]
  },
  {
   "cell_type": "code",
   "execution_count": 23,
   "metadata": {},
   "outputs": [],
   "source": [
    "data.replace({'response': {\"yes\": 1,'no':0}},inplace=True)"
   ]
  },
  {
   "cell_type": "code",
   "execution_count": 24,
   "metadata": {},
   "outputs": [
    {
     "data": {
      "text/plain": [
       "<bound method NDFrame.head of 0        0\n",
       "1        0\n",
       "2        0\n",
       "3        0\n",
       "4        0\n",
       "        ..\n",
       "45206    1\n",
       "45207    1\n",
       "45208    1\n",
       "45209    0\n",
       "45210    0\n",
       "Name: response, Length: 45211, dtype: int64>"
      ]
     },
     "execution_count": 24,
     "metadata": {},
     "output_type": "execute_result"
    }
   ],
   "source": [
    "data.response.head"
   ]
  },
  {
   "cell_type": "markdown",
   "metadata": {},
   "source": [
    "### Make suitable plots for associations with Numerical features and categorical features"
   ]
  },
  {
   "cell_type": "code",
   "execution_count": 25,
   "metadata": {},
   "outputs": [],
   "source": [
    "cols = data.columns\n",
    "num_cols= data._get_numeric_data().columns\n",
    "cat_cols = list(set(cols) - set(num_cols))"
   ]
  },
  {
   "cell_type": "markdown",
   "metadata": {},
   "source": [
    "### Visualizing Numerical features with Response"
   ]
  },
  {
   "cell_type": "code",
   "execution_count": 26,
   "metadata": {},
   "outputs": [
    {
     "data": {
      "text/html": [
       "<div>\n",
       "<style scoped>\n",
       "    .dataframe tbody tr th:only-of-type {\n",
       "        vertical-align: middle;\n",
       "    }\n",
       "\n",
       "    .dataframe tbody tr th {\n",
       "        vertical-align: top;\n",
       "    }\n",
       "\n",
       "    .dataframe thead th {\n",
       "        text-align: right;\n",
       "    }\n",
       "</style>\n",
       "<table border=\"1\" class=\"dataframe\">\n",
       "  <thead>\n",
       "    <tr style=\"text-align: right;\">\n",
       "      <th></th>\n",
       "      <th>age</th>\n",
       "      <th>salary</th>\n",
       "      <th>balance</th>\n",
       "      <th>day</th>\n",
       "      <th>duration</th>\n",
       "      <th>campaign</th>\n",
       "      <th>pdays</th>\n",
       "      <th>previous</th>\n",
       "      <th>response</th>\n",
       "    </tr>\n",
       "  </thead>\n",
       "  <tbody>\n",
       "    <tr>\n",
       "      <td>0</td>\n",
       "      <td>58</td>\n",
       "      <td>100000</td>\n",
       "      <td>2143</td>\n",
       "      <td>5</td>\n",
       "      <td>261</td>\n",
       "      <td>1</td>\n",
       "      <td>-1</td>\n",
       "      <td>0</td>\n",
       "      <td>0</td>\n",
       "    </tr>\n",
       "    <tr>\n",
       "      <td>1</td>\n",
       "      <td>44</td>\n",
       "      <td>60000</td>\n",
       "      <td>29</td>\n",
       "      <td>5</td>\n",
       "      <td>151</td>\n",
       "      <td>1</td>\n",
       "      <td>-1</td>\n",
       "      <td>0</td>\n",
       "      <td>0</td>\n",
       "    </tr>\n",
       "    <tr>\n",
       "      <td>2</td>\n",
       "      <td>33</td>\n",
       "      <td>120000</td>\n",
       "      <td>2</td>\n",
       "      <td>5</td>\n",
       "      <td>76</td>\n",
       "      <td>1</td>\n",
       "      <td>-1</td>\n",
       "      <td>0</td>\n",
       "      <td>0</td>\n",
       "    </tr>\n",
       "    <tr>\n",
       "      <td>3</td>\n",
       "      <td>47</td>\n",
       "      <td>20000</td>\n",
       "      <td>1506</td>\n",
       "      <td>5</td>\n",
       "      <td>92</td>\n",
       "      <td>1</td>\n",
       "      <td>-1</td>\n",
       "      <td>0</td>\n",
       "      <td>0</td>\n",
       "    </tr>\n",
       "    <tr>\n",
       "      <td>4</td>\n",
       "      <td>33</td>\n",
       "      <td>0</td>\n",
       "      <td>1</td>\n",
       "      <td>5</td>\n",
       "      <td>198</td>\n",
       "      <td>1</td>\n",
       "      <td>-1</td>\n",
       "      <td>0</td>\n",
       "      <td>0</td>\n",
       "    </tr>\n",
       "    <tr>\n",
       "      <td>...</td>\n",
       "      <td>...</td>\n",
       "      <td>...</td>\n",
       "      <td>...</td>\n",
       "      <td>...</td>\n",
       "      <td>...</td>\n",
       "      <td>...</td>\n",
       "      <td>...</td>\n",
       "      <td>...</td>\n",
       "      <td>...</td>\n",
       "    </tr>\n",
       "    <tr>\n",
       "      <td>45206</td>\n",
       "      <td>51</td>\n",
       "      <td>60000</td>\n",
       "      <td>825</td>\n",
       "      <td>17</td>\n",
       "      <td>977</td>\n",
       "      <td>3</td>\n",
       "      <td>-1</td>\n",
       "      <td>0</td>\n",
       "      <td>1</td>\n",
       "    </tr>\n",
       "    <tr>\n",
       "      <td>45207</td>\n",
       "      <td>71</td>\n",
       "      <td>55000</td>\n",
       "      <td>1729</td>\n",
       "      <td>17</td>\n",
       "      <td>456</td>\n",
       "      <td>2</td>\n",
       "      <td>-1</td>\n",
       "      <td>0</td>\n",
       "      <td>1</td>\n",
       "    </tr>\n",
       "    <tr>\n",
       "      <td>45208</td>\n",
       "      <td>72</td>\n",
       "      <td>55000</td>\n",
       "      <td>5715</td>\n",
       "      <td>17</td>\n",
       "      <td>1127</td>\n",
       "      <td>5</td>\n",
       "      <td>184</td>\n",
       "      <td>3</td>\n",
       "      <td>1</td>\n",
       "    </tr>\n",
       "    <tr>\n",
       "      <td>45209</td>\n",
       "      <td>57</td>\n",
       "      <td>20000</td>\n",
       "      <td>668</td>\n",
       "      <td>17</td>\n",
       "      <td>508</td>\n",
       "      <td>4</td>\n",
       "      <td>-1</td>\n",
       "      <td>0</td>\n",
       "      <td>0</td>\n",
       "    </tr>\n",
       "    <tr>\n",
       "      <td>45210</td>\n",
       "      <td>37</td>\n",
       "      <td>120000</td>\n",
       "      <td>2971</td>\n",
       "      <td>17</td>\n",
       "      <td>361</td>\n",
       "      <td>2</td>\n",
       "      <td>188</td>\n",
       "      <td>11</td>\n",
       "      <td>0</td>\n",
       "    </tr>\n",
       "  </tbody>\n",
       "</table>\n",
       "<p>45211 rows × 9 columns</p>\n",
       "</div>"
      ],
      "text/plain": [
       "       age  salary  balance  day  duration  campaign  pdays  previous  \\\n",
       "0       58  100000     2143    5       261         1     -1         0   \n",
       "1       44   60000       29    5       151         1     -1         0   \n",
       "2       33  120000        2    5        76         1     -1         0   \n",
       "3       47   20000     1506    5        92         1     -1         0   \n",
       "4       33       0        1    5       198         1     -1         0   \n",
       "...    ...     ...      ...  ...       ...       ...    ...       ...   \n",
       "45206   51   60000      825   17       977         3     -1         0   \n",
       "45207   71   55000     1729   17       456         2     -1         0   \n",
       "45208   72   55000     5715   17      1127         5    184         3   \n",
       "45209   57   20000      668   17       508         4     -1         0   \n",
       "45210   37  120000     2971   17       361         2    188        11   \n",
       "\n",
       "       response  \n",
       "0             0  \n",
       "1             0  \n",
       "2             0  \n",
       "3             0  \n",
       "4             0  \n",
       "...         ...  \n",
       "45206         1  \n",
       "45207         1  \n",
       "45208         1  \n",
       "45209         0  \n",
       "45210         0  \n",
       "\n",
       "[45211 rows x 9 columns]"
      ]
     },
     "execution_count": 26,
     "metadata": {},
     "output_type": "execute_result"
    }
   ],
   "source": [
    "data[num_cols]"
   ]
  },
  {
   "cell_type": "code",
   "execution_count": 27,
   "metadata": {},
   "outputs": [
    {
     "data": {
      "image/png": "[encoded data removed]",
      "text/plain": [
       "<Figure size 432x288 with 1 Axes>"
      ]
     },
     "metadata": {
      "needs_background": "light"
     },
     "output_type": "display_data"
    },
    {
     "data": {
      "image/png": "[encoded data removed]",
      "text/plain": [
       "<Figure size 432x288 with 1 Axes>"
      ]
     },
     "metadata": {
      "needs_background": "light"
     },
     "output_type": "display_data"
    },
    {
     "data": {
      "image/png": "[encoded data removed]",
      "text/plain": [
       "<Figure size 432x288 with 1 Axes>"
      ]
     },
     "metadata": {
      "needs_background": "light"
     },
     "output_type": "display_data"
    },
    {
     "data": {
      "image/png": "[encoded data removed]",
      "text/plain": [
       "<Figure size 432x288 with 1 Axes>"
      ]
     },
     "metadata": {
      "needs_background": "light"
     },
     "output_type": "display_data"
    },
    {
     "data": {
      "image/png": "[encoded data removed]",
      "text/plain": [
       "<Figure size 432x288 with 1 Axes>"
      ]
     },
     "metadata": {
      "needs_background": "light"
     },
     "output_type": "display_data"
    },
    {
     "data": {
      "image/png": "[encoded data removed]",
      "text/plain": [
       "<Figure size 432x288 with 1 Axes>"
      ]
     },
     "metadata": {
      "needs_background": "light"
     },
     "output_type": "display_data"
    },
    {
     "data": {
      "image/png": "[encoded data removed]",
      "text/plain": [
       "<Figure size 432x288 with 1 Axes>"
      ]
     },
     "metadata": {
      "needs_background": "light"
     },
     "output_type": "display_data"
    },
    {
     "data": {
      "image/png": "[encoded data removed]",
      "text/plain": [
       "<Figure size 432x288 with 1 Axes>"
      ]
     },
     "metadata": {
      "needs_background": "light"
     },
     "output_type": "display_data"
    },
    {
     "data": {
      "image/png": "[encoded data removed]",
      "text/plain": [
       "<Figure size 432x288 with 1 Axes>"
      ]
     },
     "metadata": {
      "needs_background": "light"
     },
     "output_type": "display_data"
    }
   ],
   "source": [
    "for i in data[num_cols]:\n",
    "    sns.barplot(data.response,data[i])\n",
    "    plt.show()"
   ]
  },
  {
   "cell_type": "markdown",
   "metadata": {},
   "source": [
    "### Visualizing Categorical features with Response"
   ]
  },
  {
   "cell_type": "code",
   "execution_count": 28,
   "metadata": {},
   "outputs": [
    {
     "data": {
      "text/html": [
       "<div>\n",
       "<style scoped>\n",
       "    .dataframe tbody tr th:only-of-type {\n",
       "        vertical-align: middle;\n",
       "    }\n",
       "\n",
       "    .dataframe tbody tr th {\n",
       "        vertical-align: top;\n",
       "    }\n",
       "\n",
       "    .dataframe thead th {\n",
       "        text-align: right;\n",
       "    }\n",
       "</style>\n",
       "<table border=\"1\" class=\"dataframe\">\n",
       "  <thead>\n",
       "    <tr style=\"text-align: right;\">\n",
       "      <th></th>\n",
       "      <th>marital</th>\n",
       "      <th>education</th>\n",
       "      <th>contact</th>\n",
       "      <th>job</th>\n",
       "      <th>poutcome</th>\n",
       "      <th>month</th>\n",
       "      <th>housing</th>\n",
       "      <th>loan</th>\n",
       "      <th>targeted</th>\n",
       "      <th>default</th>\n",
       "    </tr>\n",
       "  </thead>\n",
       "  <tbody>\n",
       "    <tr>\n",
       "      <td>0</td>\n",
       "      <td>married</td>\n",
       "      <td>tertiary</td>\n",
       "      <td>unknown</td>\n",
       "      <td>management</td>\n",
       "      <td>unknown</td>\n",
       "      <td>may</td>\n",
       "      <td>yes</td>\n",
       "      <td>no</td>\n",
       "      <td>yes</td>\n",
       "      <td>no</td>\n",
       "    </tr>\n",
       "    <tr>\n",
       "      <td>1</td>\n",
       "      <td>single</td>\n",
       "      <td>secondary</td>\n",
       "      <td>unknown</td>\n",
       "      <td>technician</td>\n",
       "      <td>unknown</td>\n",
       "      <td>may</td>\n",
       "      <td>yes</td>\n",
       "      <td>no</td>\n",
       "      <td>yes</td>\n",
       "      <td>no</td>\n",
       "    </tr>\n",
       "    <tr>\n",
       "      <td>2</td>\n",
       "      <td>married</td>\n",
       "      <td>secondary</td>\n",
       "      <td>unknown</td>\n",
       "      <td>entrepreneur</td>\n",
       "      <td>unknown</td>\n",
       "      <td>may</td>\n",
       "      <td>yes</td>\n",
       "      <td>yes</td>\n",
       "      <td>yes</td>\n",
       "      <td>no</td>\n",
       "    </tr>\n",
       "    <tr>\n",
       "      <td>3</td>\n",
       "      <td>married</td>\n",
       "      <td>unknown</td>\n",
       "      <td>unknown</td>\n",
       "      <td>blue-collar</td>\n",
       "      <td>unknown</td>\n",
       "      <td>may</td>\n",
       "      <td>yes</td>\n",
       "      <td>no</td>\n",
       "      <td>no</td>\n",
       "      <td>no</td>\n",
       "    </tr>\n",
       "    <tr>\n",
       "      <td>4</td>\n",
       "      <td>single</td>\n",
       "      <td>unknown</td>\n",
       "      <td>unknown</td>\n",
       "      <td>unknown</td>\n",
       "      <td>unknown</td>\n",
       "      <td>may</td>\n",
       "      <td>no</td>\n",
       "      <td>no</td>\n",
       "      <td>no</td>\n",
       "      <td>no</td>\n",
       "    </tr>\n",
       "    <tr>\n",
       "      <td>...</td>\n",
       "      <td>...</td>\n",
       "      <td>...</td>\n",
       "      <td>...</td>\n",
       "      <td>...</td>\n",
       "      <td>...</td>\n",
       "      <td>...</td>\n",
       "      <td>...</td>\n",
       "      <td>...</td>\n",
       "      <td>...</td>\n",
       "      <td>...</td>\n",
       "    </tr>\n",
       "    <tr>\n",
       "      <td>45206</td>\n",
       "      <td>married</td>\n",
       "      <td>tertiary</td>\n",
       "      <td>cellular</td>\n",
       "      <td>technician</td>\n",
       "      <td>unknown</td>\n",
       "      <td>nov</td>\n",
       "      <td>no</td>\n",
       "      <td>no</td>\n",
       "      <td>yes</td>\n",
       "      <td>no</td>\n",
       "    </tr>\n",
       "    <tr>\n",
       "      <td>45207</td>\n",
       "      <td>divorced</td>\n",
       "      <td>primary</td>\n",
       "      <td>cellular</td>\n",
       "      <td>retired</td>\n",
       "      <td>unknown</td>\n",
       "      <td>nov</td>\n",
       "      <td>no</td>\n",
       "      <td>no</td>\n",
       "      <td>yes</td>\n",
       "      <td>no</td>\n",
       "    </tr>\n",
       "    <tr>\n",
       "      <td>45208</td>\n",
       "      <td>married</td>\n",
       "      <td>secondary</td>\n",
       "      <td>cellular</td>\n",
       "      <td>retired</td>\n",
       "      <td>success</td>\n",
       "      <td>nov</td>\n",
       "      <td>no</td>\n",
       "      <td>no</td>\n",
       "      <td>yes</td>\n",
       "      <td>no</td>\n",
       "    </tr>\n",
       "    <tr>\n",
       "      <td>45209</td>\n",
       "      <td>married</td>\n",
       "      <td>secondary</td>\n",
       "      <td>telephone</td>\n",
       "      <td>blue-collar</td>\n",
       "      <td>unknown</td>\n",
       "      <td>nov</td>\n",
       "      <td>no</td>\n",
       "      <td>no</td>\n",
       "      <td>yes</td>\n",
       "      <td>no</td>\n",
       "    </tr>\n",
       "    <tr>\n",
       "      <td>45210</td>\n",
       "      <td>married</td>\n",
       "      <td>secondary</td>\n",
       "      <td>cellular</td>\n",
       "      <td>entrepreneur</td>\n",
       "      <td>other</td>\n",
       "      <td>nov</td>\n",
       "      <td>no</td>\n",
       "      <td>no</td>\n",
       "      <td>yes</td>\n",
       "      <td>no</td>\n",
       "    </tr>\n",
       "  </tbody>\n",
       "</table>\n",
       "<p>45211 rows × 10 columns</p>\n",
       "</div>"
      ],
      "text/plain": [
       "        marital  education    contact           job poutcome month housing  \\\n",
       "0       married   tertiary    unknown    management  unknown   may     yes   \n",
       "1        single  secondary    unknown    technician  unknown   may     yes   \n",
       "2       married  secondary    unknown  entrepreneur  unknown   may     yes   \n",
       "3       married    unknown    unknown   blue-collar  unknown   may     yes   \n",
       "4        single    unknown    unknown       unknown  unknown   may      no   \n",
       "...         ...        ...        ...           ...      ...   ...     ...   \n",
       "45206   married   tertiary   cellular    technician  unknown   nov      no   \n",
       "45207  divorced    primary   cellular       retired  unknown   nov      no   \n",
       "45208   married  secondary   cellular       retired  success   nov      no   \n",
       "45209   married  secondary  telephone   blue-collar  unknown   nov      no   \n",
       "45210   married  secondary   cellular  entrepreneur    other   nov      no   \n",
       "\n",
       "      loan targeted default  \n",
       "0       no      yes      no  \n",
       "1       no      yes      no  \n",
       "2      yes      yes      no  \n",
       "3       no       no      no  \n",
       "4       no       no      no  \n",
       "...    ...      ...     ...  \n",
       "45206   no      yes      no  \n",
       "45207   no      yes      no  \n",
       "45208   no      yes      no  \n",
       "45209   no      yes      no  \n",
       "45210   no      yes      no  \n",
       "\n",
       "[45211 rows x 10 columns]"
      ]
     },
     "execution_count": 28,
     "metadata": {},
     "output_type": "execute_result"
    }
   ],
   "source": [
    "data[cat_cols]"
   ]
  },
  {
   "cell_type": "code",
   "execution_count": 29,
   "metadata": {},
   "outputs": [
    {
     "data": {
      "image/png": "[encoded data removed]",
      "text/plain": [
       "<Figure size 432x288 with 1 Axes>"
      ]
     },
     "metadata": {
      "needs_background": "light"
     },
     "output_type": "display_data"
    },
    {
     "data": {
      "image/png": "[encoded data removed]",
      "text/plain": [
       "<Figure size 432x288 with 1 Axes>"
      ]
     },
     "metadata": {
      "needs_background": "light"
     },
     "output_type": "display_data"
    },
    {
     "data": {
      "image/png": "[encoded data removed]",
      "text/plain": [
       "<Figure size 432x288 with 1 Axes>"
      ]
     },
     "metadata": {
      "needs_background": "light"
     },
     "output_type": "display_data"
    },
    {
     "data": {
      "image/png": "[encoded data removed]",
      "text/plain": [
       "<Figure size 432x288 with 1 Axes>"
      ]
     },
     "metadata": {
      "needs_background": "light"
     },
     "output_type": "display_data"
    },
    {
     "data": {
      "image/png": "[encoded data removed]",
      "text/plain": [
       "<Figure size 432x288 with 1 Axes>"
      ]
     },
     "metadata": {
      "needs_background": "light"
     },
     "output_type": "display_data"
    },
    {
     "data": {
      "image/png": "[encoded data removed]",
      "text/plain": [
       "<Figure size 432x288 with 1 Axes>"
      ]
     },
     "metadata": {
      "needs_background": "light"
     },
     "output_type": "display_data"
    },
    {
     "data": {
      "image/png": "[encoded data removed]",
      "text/plain": [
       "<Figure size 432x288 with 1 Axes>"
      ]
     },
     "metadata": {
      "needs_background": "light"
     },
     "output_type": "display_data"
    },
    {
     "data": {
      "image/png": "[encoded data removed]",
      "text/plain": [
       "<Figure size 432x288 with 1 Axes>"
      ]
     },
     "metadata": {
      "needs_background": "light"
     },
     "output_type": "display_data"
    },
    {
     "data": {
      "image/png": "[encoded data removed]",
      "text/plain": [
       "<Figure size 432x288 with 1 Axes>"
      ]
     },
     "metadata": {
      "needs_background": "light"
     },
     "output_type": "display_data"
    },
    {
     "data": {
      "image/png": "[encoded data removed]",
      "text/plain": [
       "<Figure size 432x288 with 1 Axes>"
      ]
     },
     "metadata": {
      "needs_background": "light"
     },
     "output_type": "display_data"
    }
   ],
   "source": [
    "for i in data[cat_cols]:\n",
    "    sns.barplot(data.response,data[i])\n",
    "    plt.show()"
   ]
  },
  {
   "cell_type": "markdown",
   "metadata": {},
   "source": [
    "## Preprocessing "
   ]
  },
  {
   "cell_type": "markdown",
   "metadata": {},
   "source": [
    "### Are the features about the previous campaign data useful? Are pdays and poutcome associated with the target? If yes, and if you plan to use them – how do you handle the pdays column with a value of -1 where the previous campaign data is missing? Explain your approach and your decision."
   ]
  },
  {
   "cell_type": "code",
   "execution_count": 30,
   "metadata": {},
   "outputs": [],
   "source": [
    "from sklearn.preprocessing import LabelEncoder"
   ]
  },
  {
   "cell_type": "code",
   "execution_count": 31,
   "metadata": {},
   "outputs": [
    {
     "data": {
      "text/html": [
       "<div>\n",
       "<style scoped>\n",
       "    .dataframe tbody tr th:only-of-type {\n",
       "        vertical-align: middle;\n",
       "    }\n",
       "\n",
       "    .dataframe tbody tr th {\n",
       "        vertical-align: top;\n",
       "    }\n",
       "\n",
       "    .dataframe thead th {\n",
       "        text-align: right;\n",
       "    }\n",
       "</style>\n",
       "<table border=\"1\" class=\"dataframe\">\n",
       "  <thead>\n",
       "    <tr style=\"text-align: right;\">\n",
       "      <th></th>\n",
       "      <th>marital</th>\n",
       "      <th>education</th>\n",
       "      <th>contact</th>\n",
       "      <th>job</th>\n",
       "      <th>poutcome</th>\n",
       "      <th>month</th>\n",
       "      <th>housing</th>\n",
       "      <th>loan</th>\n",
       "      <th>targeted</th>\n",
       "      <th>default</th>\n",
       "    </tr>\n",
       "  </thead>\n",
       "  <tbody>\n",
       "    <tr>\n",
       "      <td>0</td>\n",
       "      <td>1</td>\n",
       "      <td>2</td>\n",
       "      <td>2</td>\n",
       "      <td>4</td>\n",
       "      <td>3</td>\n",
       "      <td>8</td>\n",
       "      <td>1</td>\n",
       "      <td>0</td>\n",
       "      <td>1</td>\n",
       "      <td>0</td>\n",
       "    </tr>\n",
       "    <tr>\n",
       "      <td>1</td>\n",
       "      <td>2</td>\n",
       "      <td>1</td>\n",
       "      <td>2</td>\n",
       "      <td>9</td>\n",
       "      <td>3</td>\n",
       "      <td>8</td>\n",
       "      <td>1</td>\n",
       "      <td>0</td>\n",
       "      <td>1</td>\n",
       "      <td>0</td>\n",
       "    </tr>\n",
       "    <tr>\n",
       "      <td>2</td>\n",
       "      <td>1</td>\n",
       "      <td>1</td>\n",
       "      <td>2</td>\n",
       "      <td>2</td>\n",
       "      <td>3</td>\n",
       "      <td>8</td>\n",
       "      <td>1</td>\n",
       "      <td>1</td>\n",
       "      <td>1</td>\n",
       "      <td>0</td>\n",
       "    </tr>\n",
       "    <tr>\n",
       "      <td>3</td>\n",
       "      <td>1</td>\n",
       "      <td>3</td>\n",
       "      <td>2</td>\n",
       "      <td>1</td>\n",
       "      <td>3</td>\n",
       "      <td>8</td>\n",
       "      <td>1</td>\n",
       "      <td>0</td>\n",
       "      <td>0</td>\n",
       "      <td>0</td>\n",
       "    </tr>\n",
       "    <tr>\n",
       "      <td>4</td>\n",
       "      <td>2</td>\n",
       "      <td>3</td>\n",
       "      <td>2</td>\n",
       "      <td>11</td>\n",
       "      <td>3</td>\n",
       "      <td>8</td>\n",
       "      <td>0</td>\n",
       "      <td>0</td>\n",
       "      <td>0</td>\n",
       "      <td>0</td>\n",
       "    </tr>\n",
       "    <tr>\n",
       "      <td>...</td>\n",
       "      <td>...</td>\n",
       "      <td>...</td>\n",
       "      <td>...</td>\n",
       "      <td>...</td>\n",
       "      <td>...</td>\n",
       "      <td>...</td>\n",
       "      <td>...</td>\n",
       "      <td>...</td>\n",
       "      <td>...</td>\n",
       "      <td>...</td>\n",
       "    </tr>\n",
       "    <tr>\n",
       "      <td>45206</td>\n",
       "      <td>1</td>\n",
       "      <td>2</td>\n",
       "      <td>0</td>\n",
       "      <td>9</td>\n",
       "      <td>3</td>\n",
       "      <td>9</td>\n",
       "      <td>0</td>\n",
       "      <td>0</td>\n",
       "      <td>1</td>\n",
       "      <td>0</td>\n",
       "    </tr>\n",
       "    <tr>\n",
       "      <td>45207</td>\n",
       "      <td>0</td>\n",
       "      <td>0</td>\n",
       "      <td>0</td>\n",
       "      <td>5</td>\n",
       "      <td>3</td>\n",
       "      <td>9</td>\n",
       "      <td>0</td>\n",
       "      <td>0</td>\n",
       "      <td>1</td>\n",
       "      <td>0</td>\n",
       "    </tr>\n",
       "    <tr>\n",
       "      <td>45208</td>\n",
       "      <td>1</td>\n",
       "      <td>1</td>\n",
       "      <td>0</td>\n",
       "      <td>5</td>\n",
       "      <td>2</td>\n",
       "      <td>9</td>\n",
       "      <td>0</td>\n",
       "      <td>0</td>\n",
       "      <td>1</td>\n",
       "      <td>0</td>\n",
       "    </tr>\n",
       "    <tr>\n",
       "      <td>45209</td>\n",
       "      <td>1</td>\n",
       "      <td>1</td>\n",
       "      <td>1</td>\n",
       "      <td>1</td>\n",
       "      <td>3</td>\n",
       "      <td>9</td>\n",
       "      <td>0</td>\n",
       "      <td>0</td>\n",
       "      <td>1</td>\n",
       "      <td>0</td>\n",
       "    </tr>\n",
       "    <tr>\n",
       "      <td>45210</td>\n",
       "      <td>1</td>\n",
       "      <td>1</td>\n",
       "      <td>0</td>\n",
       "      <td>2</td>\n",
       "      <td>1</td>\n",
       "      <td>9</td>\n",
       "      <td>0</td>\n",
       "      <td>0</td>\n",
       "      <td>1</td>\n",
       "      <td>0</td>\n",
       "    </tr>\n",
       "  </tbody>\n",
       "</table>\n",
       "<p>45211 rows × 10 columns</p>\n",
       "</div>"
      ],
      "text/plain": [
       "       marital  education  contact  job  poutcome  month  housing  loan  \\\n",
       "0            1          2        2    4         3      8        1     0   \n",
       "1            2          1        2    9         3      8        1     0   \n",
       "2            1          1        2    2         3      8        1     1   \n",
       "3            1          3        2    1         3      8        1     0   \n",
       "4            2          3        2   11         3      8        0     0   \n",
       "...        ...        ...      ...  ...       ...    ...      ...   ...   \n",
       "45206        1          2        0    9         3      9        0     0   \n",
       "45207        0          0        0    5         3      9        0     0   \n",
       "45208        1          1        0    5         2      9        0     0   \n",
       "45209        1          1        1    1         3      9        0     0   \n",
       "45210        1          1        0    2         1      9        0     0   \n",
       "\n",
       "       targeted  default  \n",
       "0             1        0  \n",
       "1             1        0  \n",
       "2             1        0  \n",
       "3             0        0  \n",
       "4             0        0  \n",
       "...         ...      ...  \n",
       "45206         1        0  \n",
       "45207         1        0  \n",
       "45208         1        0  \n",
       "45209         1        0  \n",
       "45210         1        0  \n",
       "\n",
       "[45211 rows x 10 columns]"
      ]
     },
     "execution_count": 31,
     "metadata": {},
     "output_type": "execute_result"
    }
   ],
   "source": [
    "data1 = data[cat_cols].apply(LabelEncoder().fit_transform)\n",
    "data1"
   ]
  },
  {
   "cell_type": "code",
   "execution_count": 32,
   "metadata": {},
   "outputs": [
    {
     "data": {
      "text/html": [
       "<div>\n",
       "<style scoped>\n",
       "    .dataframe tbody tr th:only-of-type {\n",
       "        vertical-align: middle;\n",
       "    }\n",
       "\n",
       "    .dataframe tbody tr th {\n",
       "        vertical-align: top;\n",
       "    }\n",
       "\n",
       "    .dataframe thead th {\n",
       "        text-align: right;\n",
       "    }\n",
       "</style>\n",
       "<table border=\"1\" class=\"dataframe\">\n",
       "  <thead>\n",
       "    <tr style=\"text-align: right;\">\n",
       "      <th></th>\n",
       "      <th>marital</th>\n",
       "      <th>education</th>\n",
       "      <th>contact</th>\n",
       "      <th>job</th>\n",
       "      <th>poutcome</th>\n",
       "      <th>month</th>\n",
       "      <th>housing</th>\n",
       "      <th>loan</th>\n",
       "      <th>targeted</th>\n",
       "      <th>default</th>\n",
       "      <th>age</th>\n",
       "      <th>salary</th>\n",
       "      <th>balance</th>\n",
       "      <th>day</th>\n",
       "      <th>duration</th>\n",
       "      <th>campaign</th>\n",
       "      <th>pdays</th>\n",
       "      <th>previous</th>\n",
       "      <th>response</th>\n",
       "    </tr>\n",
       "  </thead>\n",
       "  <tbody>\n",
       "    <tr>\n",
       "      <td>0</td>\n",
       "      <td>1</td>\n",
       "      <td>2</td>\n",
       "      <td>2</td>\n",
       "      <td>4</td>\n",
       "      <td>3</td>\n",
       "      <td>8</td>\n",
       "      <td>1</td>\n",
       "      <td>0</td>\n",
       "      <td>1</td>\n",
       "      <td>0</td>\n",
       "      <td>58</td>\n",
       "      <td>100000</td>\n",
       "      <td>2143</td>\n",
       "      <td>5</td>\n",
       "      <td>261</td>\n",
       "      <td>1</td>\n",
       "      <td>-1</td>\n",
       "      <td>0</td>\n",
       "      <td>0</td>\n",
       "    </tr>\n",
       "    <tr>\n",
       "      <td>1</td>\n",
       "      <td>2</td>\n",
       "      <td>1</td>\n",
       "      <td>2</td>\n",
       "      <td>9</td>\n",
       "      <td>3</td>\n",
       "      <td>8</td>\n",
       "      <td>1</td>\n",
       "      <td>0</td>\n",
       "      <td>1</td>\n",
       "      <td>0</td>\n",
       "      <td>44</td>\n",
       "      <td>60000</td>\n",
       "      <td>29</td>\n",
       "      <td>5</td>\n",
       "      <td>151</td>\n",
       "      <td>1</td>\n",
       "      <td>-1</td>\n",
       "      <td>0</td>\n",
       "      <td>0</td>\n",
       "    </tr>\n",
       "    <tr>\n",
       "      <td>2</td>\n",
       "      <td>1</td>\n",
       "      <td>1</td>\n",
       "      <td>2</td>\n",
       "      <td>2</td>\n",
       "      <td>3</td>\n",
       "      <td>8</td>\n",
       "      <td>1</td>\n",
       "      <td>1</td>\n",
       "      <td>1</td>\n",
       "      <td>0</td>\n",
       "      <td>33</td>\n",
       "      <td>120000</td>\n",
       "      <td>2</td>\n",
       "      <td>5</td>\n",
       "      <td>76</td>\n",
       "      <td>1</td>\n",
       "      <td>-1</td>\n",
       "      <td>0</td>\n",
       "      <td>0</td>\n",
       "    </tr>\n",
       "    <tr>\n",
       "      <td>3</td>\n",
       "      <td>1</td>\n",
       "      <td>3</td>\n",
       "      <td>2</td>\n",
       "      <td>1</td>\n",
       "      <td>3</td>\n",
       "      <td>8</td>\n",
       "      <td>1</td>\n",
       "      <td>0</td>\n",
       "      <td>0</td>\n",
       "      <td>0</td>\n",
       "      <td>47</td>\n",
       "      <td>20000</td>\n",
       "      <td>1506</td>\n",
       "      <td>5</td>\n",
       "      <td>92</td>\n",
       "      <td>1</td>\n",
       "      <td>-1</td>\n",
       "      <td>0</td>\n",
       "      <td>0</td>\n",
       "    </tr>\n",
       "    <tr>\n",
       "      <td>4</td>\n",
       "      <td>2</td>\n",
       "      <td>3</td>\n",
       "      <td>2</td>\n",
       "      <td>11</td>\n",
       "      <td>3</td>\n",
       "      <td>8</td>\n",
       "      <td>0</td>\n",
       "      <td>0</td>\n",
       "      <td>0</td>\n",
       "      <td>0</td>\n",
       "      <td>33</td>\n",
       "      <td>0</td>\n",
       "      <td>1</td>\n",
       "      <td>5</td>\n",
       "      <td>198</td>\n",
       "      <td>1</td>\n",
       "      <td>-1</td>\n",
       "      <td>0</td>\n",
       "      <td>0</td>\n",
       "    </tr>\n",
       "    <tr>\n",
       "      <td>...</td>\n",
       "      <td>...</td>\n",
       "      <td>...</td>\n",
       "      <td>...</td>\n",
       "      <td>...</td>\n",
       "      <td>...</td>\n",
       "      <td>...</td>\n",
       "      <td>...</td>\n",
       "      <td>...</td>\n",
       "      <td>...</td>\n",
       "      <td>...</td>\n",
       "      <td>...</td>\n",
       "      <td>...</td>\n",
       "      <td>...</td>\n",
       "      <td>...</td>\n",
       "      <td>...</td>\n",
       "      <td>...</td>\n",
       "      <td>...</td>\n",
       "      <td>...</td>\n",
       "      <td>...</td>\n",
       "    </tr>\n",
       "    <tr>\n",
       "      <td>45206</td>\n",
       "      <td>1</td>\n",
       "      <td>2</td>\n",
       "      <td>0</td>\n",
       "      <td>9</td>\n",
       "      <td>3</td>\n",
       "      <td>9</td>\n",
       "      <td>0</td>\n",
       "      <td>0</td>\n",
       "      <td>1</td>\n",
       "      <td>0</td>\n",
       "      <td>51</td>\n",
       "      <td>60000</td>\n",
       "      <td>825</td>\n",
       "      <td>17</td>\n",
       "      <td>977</td>\n",
       "      <td>3</td>\n",
       "      <td>-1</td>\n",
       "      <td>0</td>\n",
       "      <td>1</td>\n",
       "    </tr>\n",
       "    <tr>\n",
       "      <td>45207</td>\n",
       "      <td>0</td>\n",
       "      <td>0</td>\n",
       "      <td>0</td>\n",
       "      <td>5</td>\n",
       "      <td>3</td>\n",
       "      <td>9</td>\n",
       "      <td>0</td>\n",
       "      <td>0</td>\n",
       "      <td>1</td>\n",
       "      <td>0</td>\n",
       "      <td>71</td>\n",
       "      <td>55000</td>\n",
       "      <td>1729</td>\n",
       "      <td>17</td>\n",
       "      <td>456</td>\n",
       "      <td>2</td>\n",
       "      <td>-1</td>\n",
       "      <td>0</td>\n",
       "      <td>1</td>\n",
       "    </tr>\n",
       "    <tr>\n",
       "      <td>45208</td>\n",
       "      <td>1</td>\n",
       "      <td>1</td>\n",
       "      <td>0</td>\n",
       "      <td>5</td>\n",
       "      <td>2</td>\n",
       "      <td>9</td>\n",
       "      <td>0</td>\n",
       "      <td>0</td>\n",
       "      <td>1</td>\n",
       "      <td>0</td>\n",
       "      <td>72</td>\n",
       "      <td>55000</td>\n",
       "      <td>5715</td>\n",
       "      <td>17</td>\n",
       "      <td>1127</td>\n",
       "      <td>5</td>\n",
       "      <td>184</td>\n",
       "      <td>3</td>\n",
       "      <td>1</td>\n",
       "    </tr>\n",
       "    <tr>\n",
       "      <td>45209</td>\n",
       "      <td>1</td>\n",
       "      <td>1</td>\n",
       "      <td>1</td>\n",
       "      <td>1</td>\n",
       "      <td>3</td>\n",
       "      <td>9</td>\n",
       "      <td>0</td>\n",
       "      <td>0</td>\n",
       "      <td>1</td>\n",
       "      <td>0</td>\n",
       "      <td>57</td>\n",
       "      <td>20000</td>\n",
       "      <td>668</td>\n",
       "      <td>17</td>\n",
       "      <td>508</td>\n",
       "      <td>4</td>\n",
       "      <td>-1</td>\n",
       "      <td>0</td>\n",
       "      <td>0</td>\n",
       "    </tr>\n",
       "    <tr>\n",
       "      <td>45210</td>\n",
       "      <td>1</td>\n",
       "      <td>1</td>\n",
       "      <td>0</td>\n",
       "      <td>2</td>\n",
       "      <td>1</td>\n",
       "      <td>9</td>\n",
       "      <td>0</td>\n",
       "      <td>0</td>\n",
       "      <td>1</td>\n",
       "      <td>0</td>\n",
       "      <td>37</td>\n",
       "      <td>120000</td>\n",
       "      <td>2971</td>\n",
       "      <td>17</td>\n",
       "      <td>361</td>\n",
       "      <td>2</td>\n",
       "      <td>188</td>\n",
       "      <td>11</td>\n",
       "      <td>0</td>\n",
       "    </tr>\n",
       "  </tbody>\n",
       "</table>\n",
       "<p>45211 rows × 19 columns</p>\n",
       "</div>"
      ],
      "text/plain": [
       "       marital  education  contact  job  poutcome  month  housing  loan  \\\n",
       "0            1          2        2    4         3      8        1     0   \n",
       "1            2          1        2    9         3      8        1     0   \n",
       "2            1          1        2    2         3      8        1     1   \n",
       "3            1          3        2    1         3      8        1     0   \n",
       "4            2          3        2   11         3      8        0     0   \n",
       "...        ...        ...      ...  ...       ...    ...      ...   ...   \n",
       "45206        1          2        0    9         3      9        0     0   \n",
       "45207        0          0        0    5         3      9        0     0   \n",
       "45208        1          1        0    5         2      9        0     0   \n",
       "45209        1          1        1    1         3      9        0     0   \n",
       "45210        1          1        0    2         1      9        0     0   \n",
       "\n",
       "       targeted  default  age  salary  balance  day  duration  campaign  \\\n",
       "0             1        0   58  100000     2143    5       261         1   \n",
       "1             1        0   44   60000       29    5       151         1   \n",
       "2             1        0   33  120000        2    5        76         1   \n",
       "3             0        0   47   20000     1506    5        92         1   \n",
       "4             0        0   33       0        1    5       198         1   \n",
       "...         ...      ...  ...     ...      ...  ...       ...       ...   \n",
       "45206         1        0   51   60000      825   17       977         3   \n",
       "45207         1        0   71   55000     1729   17       456         2   \n",
       "45208         1        0   72   55000     5715   17      1127         5   \n",
       "45209         1        0   57   20000      668   17       508         4   \n",
       "45210         1        0   37  120000     2971   17       361         2   \n",
       "\n",
       "       pdays  previous  response  \n",
       "0         -1         0         0  \n",
       "1         -1         0         0  \n",
       "2         -1         0         0  \n",
       "3         -1         0         0  \n",
       "4         -1         0         0  \n",
       "...      ...       ...       ...  \n",
       "45206     -1         0         1  \n",
       "45207     -1         0         1  \n",
       "45208    184         3         1  \n",
       "45209     -1         0         0  \n",
       "45210    188        11         0  \n",
       "\n",
       "[45211 rows x 19 columns]"
      ]
     },
     "execution_count": 32,
     "metadata": {},
     "output_type": "execute_result"
    }
   ],
   "source": [
    "dataA = data1.join(data[num_cols])\n",
    "dataA"
   ]
  },
  {
   "cell_type": "code",
   "execution_count": 33,
   "metadata": {},
   "outputs": [
    {
     "data": {
      "text/html": [
       "<div>\n",
       "<style scoped>\n",
       "    .dataframe tbody tr th:only-of-type {\n",
       "        vertical-align: middle;\n",
       "    }\n",
       "\n",
       "    .dataframe tbody tr th {\n",
       "        vertical-align: top;\n",
       "    }\n",
       "\n",
       "    .dataframe thead th {\n",
       "        text-align: right;\n",
       "    }\n",
       "</style>\n",
       "<table border=\"1\" class=\"dataframe\">\n",
       "  <thead>\n",
       "    <tr style=\"text-align: right;\">\n",
       "      <th></th>\n",
       "      <th>marital</th>\n",
       "      <th>education</th>\n",
       "      <th>contact</th>\n",
       "      <th>job</th>\n",
       "      <th>poutcome</th>\n",
       "      <th>month</th>\n",
       "      <th>housing</th>\n",
       "      <th>loan</th>\n",
       "      <th>targeted</th>\n",
       "      <th>default</th>\n",
       "      <th>age</th>\n",
       "      <th>salary</th>\n",
       "      <th>balance</th>\n",
       "      <th>day</th>\n",
       "      <th>duration</th>\n",
       "      <th>campaign</th>\n",
       "      <th>pdays</th>\n",
       "      <th>previous</th>\n",
       "      <th>response</th>\n",
       "    </tr>\n",
       "  </thead>\n",
       "  <tbody>\n",
       "    <tr>\n",
       "      <td>0</td>\n",
       "      <td>1</td>\n",
       "      <td>2</td>\n",
       "      <td>2</td>\n",
       "      <td>4</td>\n",
       "      <td>3</td>\n",
       "      <td>8</td>\n",
       "      <td>1</td>\n",
       "      <td>0</td>\n",
       "      <td>1</td>\n",
       "      <td>0</td>\n",
       "      <td>58</td>\n",
       "      <td>100000</td>\n",
       "      <td>2143</td>\n",
       "      <td>5</td>\n",
       "      <td>261</td>\n",
       "      <td>1</td>\n",
       "      <td>-1</td>\n",
       "      <td>0</td>\n",
       "      <td>0</td>\n",
       "    </tr>\n",
       "    <tr>\n",
       "      <td>1</td>\n",
       "      <td>2</td>\n",
       "      <td>1</td>\n",
       "      <td>2</td>\n",
       "      <td>9</td>\n",
       "      <td>3</td>\n",
       "      <td>8</td>\n",
       "      <td>1</td>\n",
       "      <td>0</td>\n",
       "      <td>1</td>\n",
       "      <td>0</td>\n",
       "      <td>44</td>\n",
       "      <td>60000</td>\n",
       "      <td>29</td>\n",
       "      <td>5</td>\n",
       "      <td>151</td>\n",
       "      <td>1</td>\n",
       "      <td>-1</td>\n",
       "      <td>0</td>\n",
       "      <td>0</td>\n",
       "    </tr>\n",
       "    <tr>\n",
       "      <td>2</td>\n",
       "      <td>1</td>\n",
       "      <td>1</td>\n",
       "      <td>2</td>\n",
       "      <td>2</td>\n",
       "      <td>3</td>\n",
       "      <td>8</td>\n",
       "      <td>1</td>\n",
       "      <td>1</td>\n",
       "      <td>1</td>\n",
       "      <td>0</td>\n",
       "      <td>33</td>\n",
       "      <td>120000</td>\n",
       "      <td>2</td>\n",
       "      <td>5</td>\n",
       "      <td>76</td>\n",
       "      <td>1</td>\n",
       "      <td>-1</td>\n",
       "      <td>0</td>\n",
       "      <td>0</td>\n",
       "    </tr>\n",
       "    <tr>\n",
       "      <td>3</td>\n",
       "      <td>1</td>\n",
       "      <td>3</td>\n",
       "      <td>2</td>\n",
       "      <td>1</td>\n",
       "      <td>3</td>\n",
       "      <td>8</td>\n",
       "      <td>1</td>\n",
       "      <td>0</td>\n",
       "      <td>0</td>\n",
       "      <td>0</td>\n",
       "      <td>47</td>\n",
       "      <td>20000</td>\n",
       "      <td>1506</td>\n",
       "      <td>5</td>\n",
       "      <td>92</td>\n",
       "      <td>1</td>\n",
       "      <td>-1</td>\n",
       "      <td>0</td>\n",
       "      <td>0</td>\n",
       "    </tr>\n",
       "    <tr>\n",
       "      <td>4</td>\n",
       "      <td>2</td>\n",
       "      <td>3</td>\n",
       "      <td>2</td>\n",
       "      <td>11</td>\n",
       "      <td>3</td>\n",
       "      <td>8</td>\n",
       "      <td>0</td>\n",
       "      <td>0</td>\n",
       "      <td>0</td>\n",
       "      <td>0</td>\n",
       "      <td>33</td>\n",
       "      <td>0</td>\n",
       "      <td>1</td>\n",
       "      <td>5</td>\n",
       "      <td>198</td>\n",
       "      <td>1</td>\n",
       "      <td>-1</td>\n",
       "      <td>0</td>\n",
       "      <td>0</td>\n",
       "    </tr>\n",
       "    <tr>\n",
       "      <td>...</td>\n",
       "      <td>...</td>\n",
       "      <td>...</td>\n",
       "      <td>...</td>\n",
       "      <td>...</td>\n",
       "      <td>...</td>\n",
       "      <td>...</td>\n",
       "      <td>...</td>\n",
       "      <td>...</td>\n",
       "      <td>...</td>\n",
       "      <td>...</td>\n",
       "      <td>...</td>\n",
       "      <td>...</td>\n",
       "      <td>...</td>\n",
       "      <td>...</td>\n",
       "      <td>...</td>\n",
       "      <td>...</td>\n",
       "      <td>...</td>\n",
       "      <td>...</td>\n",
       "      <td>...</td>\n",
       "    </tr>\n",
       "    <tr>\n",
       "      <td>45203</td>\n",
       "      <td>2</td>\n",
       "      <td>2</td>\n",
       "      <td>0</td>\n",
       "      <td>8</td>\n",
       "      <td>3</td>\n",
       "      <td>9</td>\n",
       "      <td>0</td>\n",
       "      <td>0</td>\n",
       "      <td>0</td>\n",
       "      <td>0</td>\n",
       "      <td>23</td>\n",
       "      <td>4000</td>\n",
       "      <td>113</td>\n",
       "      <td>17</td>\n",
       "      <td>266</td>\n",
       "      <td>1</td>\n",
       "      <td>-1</td>\n",
       "      <td>0</td>\n",
       "      <td>1</td>\n",
       "    </tr>\n",
       "    <tr>\n",
       "      <td>45205</td>\n",
       "      <td>2</td>\n",
       "      <td>1</td>\n",
       "      <td>0</td>\n",
       "      <td>9</td>\n",
       "      <td>3</td>\n",
       "      <td>9</td>\n",
       "      <td>0</td>\n",
       "      <td>1</td>\n",
       "      <td>1</td>\n",
       "      <td>0</td>\n",
       "      <td>25</td>\n",
       "      <td>60000</td>\n",
       "      <td>505</td>\n",
       "      <td>17</td>\n",
       "      <td>386</td>\n",
       "      <td>2</td>\n",
       "      <td>-1</td>\n",
       "      <td>0</td>\n",
       "      <td>1</td>\n",
       "    </tr>\n",
       "    <tr>\n",
       "      <td>45206</td>\n",
       "      <td>1</td>\n",
       "      <td>2</td>\n",
       "      <td>0</td>\n",
       "      <td>9</td>\n",
       "      <td>3</td>\n",
       "      <td>9</td>\n",
       "      <td>0</td>\n",
       "      <td>0</td>\n",
       "      <td>1</td>\n",
       "      <td>0</td>\n",
       "      <td>51</td>\n",
       "      <td>60000</td>\n",
       "      <td>825</td>\n",
       "      <td>17</td>\n",
       "      <td>977</td>\n",
       "      <td>3</td>\n",
       "      <td>-1</td>\n",
       "      <td>0</td>\n",
       "      <td>1</td>\n",
       "    </tr>\n",
       "    <tr>\n",
       "      <td>45207</td>\n",
       "      <td>0</td>\n",
       "      <td>0</td>\n",
       "      <td>0</td>\n",
       "      <td>5</td>\n",
       "      <td>3</td>\n",
       "      <td>9</td>\n",
       "      <td>0</td>\n",
       "      <td>0</td>\n",
       "      <td>1</td>\n",
       "      <td>0</td>\n",
       "      <td>71</td>\n",
       "      <td>55000</td>\n",
       "      <td>1729</td>\n",
       "      <td>17</td>\n",
       "      <td>456</td>\n",
       "      <td>2</td>\n",
       "      <td>-1</td>\n",
       "      <td>0</td>\n",
       "      <td>1</td>\n",
       "    </tr>\n",
       "    <tr>\n",
       "      <td>45209</td>\n",
       "      <td>1</td>\n",
       "      <td>1</td>\n",
       "      <td>1</td>\n",
       "      <td>1</td>\n",
       "      <td>3</td>\n",
       "      <td>9</td>\n",
       "      <td>0</td>\n",
       "      <td>0</td>\n",
       "      <td>1</td>\n",
       "      <td>0</td>\n",
       "      <td>57</td>\n",
       "      <td>20000</td>\n",
       "      <td>668</td>\n",
       "      <td>17</td>\n",
       "      <td>508</td>\n",
       "      <td>4</td>\n",
       "      <td>-1</td>\n",
       "      <td>0</td>\n",
       "      <td>0</td>\n",
       "    </tr>\n",
       "  </tbody>\n",
       "</table>\n",
       "<p>36954 rows × 19 columns</p>\n",
       "</div>"
      ],
      "text/plain": [
       "       marital  education  contact  job  poutcome  month  housing  loan  \\\n",
       "0            1          2        2    4         3      8        1     0   \n",
       "1            2          1        2    9         3      8        1     0   \n",
       "2            1          1        2    2         3      8        1     1   \n",
       "3            1          3        2    1         3      8        1     0   \n",
       "4            2          3        2   11         3      8        0     0   \n",
       "...        ...        ...      ...  ...       ...    ...      ...   ...   \n",
       "45203        2          2        0    8         3      9        0     0   \n",
       "45205        2          1        0    9         3      9        0     1   \n",
       "45206        1          2        0    9         3      9        0     0   \n",
       "45207        0          0        0    5         3      9        0     0   \n",
       "45209        1          1        1    1         3      9        0     0   \n",
       "\n",
       "       targeted  default  age  salary  balance  day  duration  campaign  \\\n",
       "0             1        0   58  100000     2143    5       261         1   \n",
       "1             1        0   44   60000       29    5       151         1   \n",
       "2             1        0   33  120000        2    5        76         1   \n",
       "3             0        0   47   20000     1506    5        92         1   \n",
       "4             0        0   33       0        1    5       198         1   \n",
       "...         ...      ...  ...     ...      ...  ...       ...       ...   \n",
       "45203         0        0   23    4000      113   17       266         1   \n",
       "45205         1        0   25   60000      505   17       386         2   \n",
       "45206         1        0   51   60000      825   17       977         3   \n",
       "45207         1        0   71   55000     1729   17       456         2   \n",
       "45209         1        0   57   20000      668   17       508         4   \n",
       "\n",
       "       pdays  previous  response  \n",
       "0         -1         0         0  \n",
       "1         -1         0         0  \n",
       "2         -1         0         0  \n",
       "3         -1         0         0  \n",
       "4         -1         0         0  \n",
       "...      ...       ...       ...  \n",
       "45203     -1         0         1  \n",
       "45205     -1         0         1  \n",
       "45206     -1         0         1  \n",
       "45207     -1         0         1  \n",
       "45209     -1         0         0  \n",
       "\n",
       "[36954 rows x 19 columns]"
      ]
     },
     "execution_count": 33,
     "metadata": {},
     "output_type": "execute_result"
    }
   ],
   "source": [
    "dataA[dataA.pdays == -1]"
   ]
  },
  {
   "cell_type": "code",
   "execution_count": 34,
   "metadata": {},
   "outputs": [
    {
     "data": {
      "text/plain": [
       "-1      36954\n",
       " 182      167\n",
       " 92       147\n",
       " 183      126\n",
       " 91       126\n",
       "        ...  \n",
       " 749        1\n",
       " 717        1\n",
       " 589        1\n",
       " 493        1\n",
       " 32         1\n",
       "Name: pdays, Length: 559, dtype: int64"
      ]
     },
     "execution_count": 34,
     "metadata": {},
     "output_type": "execute_result"
    }
   ],
   "source": [
    "dataA.pdays.value_counts()"
   ]
  },
  {
   "cell_type": "code",
   "execution_count": 35,
   "metadata": {},
   "outputs": [
    {
     "data": {
      "text/plain": [
       "count    45211.000000\n",
       "mean        40.197828\n",
       "std        100.128746\n",
       "min         -1.000000\n",
       "25%         -1.000000\n",
       "50%         -1.000000\n",
       "75%         -1.000000\n",
       "max        871.000000\n",
       "Name: pdays, dtype: float64"
      ]
     },
     "execution_count": 35,
     "metadata": {},
     "output_type": "execute_result"
    }
   ],
   "source": [
    "dataA.pdays.describe()"
   ]
  },
  {
   "cell_type": "markdown",
   "metadata": {},
   "source": [
    "### More than 70% of pdays have -1."
   ]
  },
  {
   "cell_type": "markdown",
   "metadata": {},
   "source": [
    "### After analyzing the above we know that Pdays plays an important role in model so we keep it as it is. The -1 or the missing values are kept as it is as we would not be using that in modelling part"
   ]
  },
  {
   "cell_type": "code",
   "execution_count": 36,
   "metadata": {},
   "outputs": [
    {
     "data": {
      "text/html": [
       "<div>\n",
       "<style scoped>\n",
       "    .dataframe tbody tr th:only-of-type {\n",
       "        vertical-align: middle;\n",
       "    }\n",
       "\n",
       "    .dataframe tbody tr th {\n",
       "        vertical-align: top;\n",
       "    }\n",
       "\n",
       "    .dataframe thead th {\n",
       "        text-align: right;\n",
       "    }\n",
       "</style>\n",
       "<table border=\"1\" class=\"dataframe\">\n",
       "  <thead>\n",
       "    <tr style=\"text-align: right;\">\n",
       "      <th></th>\n",
       "      <th>marital</th>\n",
       "      <th>education</th>\n",
       "      <th>contact</th>\n",
       "      <th>job</th>\n",
       "      <th>poutcome</th>\n",
       "      <th>month</th>\n",
       "      <th>housing</th>\n",
       "      <th>loan</th>\n",
       "      <th>targeted</th>\n",
       "      <th>default</th>\n",
       "      <th>age</th>\n",
       "      <th>salary</th>\n",
       "      <th>balance</th>\n",
       "      <th>day</th>\n",
       "      <th>duration</th>\n",
       "      <th>campaign</th>\n",
       "      <th>pdays</th>\n",
       "      <th>previous</th>\n",
       "      <th>response</th>\n",
       "    </tr>\n",
       "  </thead>\n",
       "  <tbody>\n",
       "    <tr>\n",
       "      <td>marital</td>\n",
       "      <td>1.000000</td>\n",
       "      <td>0.108576</td>\n",
       "      <td>-0.039201</td>\n",
       "      <td>0.062045</td>\n",
       "      <td>-0.016850</td>\n",
       "      <td>-0.006991</td>\n",
       "      <td>-0.016096</td>\n",
       "      <td>-0.046893</td>\n",
       "      <td>-0.219610</td>\n",
       "      <td>-0.007023</td>\n",
       "      <td>-0.403240</td>\n",
       "      <td>-0.016633</td>\n",
       "      <td>0.002122</td>\n",
       "      <td>-0.005261</td>\n",
       "      <td>0.011852</td>\n",
       "      <td>-0.008994</td>\n",
       "      <td>0.019172</td>\n",
       "      <td>0.014973</td>\n",
       "      <td>0.045588</td>\n",
       "    </tr>\n",
       "    <tr>\n",
       "      <td>education</td>\n",
       "      <td>0.108576</td>\n",
       "      <td>1.000000</td>\n",
       "      <td>-0.110928</td>\n",
       "      <td>0.166707</td>\n",
       "      <td>-0.019361</td>\n",
       "      <td>-0.057304</td>\n",
       "      <td>-0.090790</td>\n",
       "      <td>-0.048574</td>\n",
       "      <td>-0.627959</td>\n",
       "      <td>-0.010718</td>\n",
       "      <td>-0.106807</td>\n",
       "      <td>0.425256</td>\n",
       "      <td>0.064514</td>\n",
       "      <td>0.022671</td>\n",
       "      <td>0.001935</td>\n",
       "      <td>0.006255</td>\n",
       "      <td>0.000052</td>\n",
       "      <td>0.017570</td>\n",
       "      <td>0.066241</td>\n",
       "    </tr>\n",
       "    <tr>\n",
       "      <td>contact</td>\n",
       "      <td>-0.039201</td>\n",
       "      <td>-0.110928</td>\n",
       "      <td>1.000000</td>\n",
       "      <td>-0.082063</td>\n",
       "      <td>0.272214</td>\n",
       "      <td>0.361145</td>\n",
       "      <td>0.188123</td>\n",
       "      <td>-0.010873</td>\n",
       "      <td>0.053247</td>\n",
       "      <td>0.015404</td>\n",
       "      <td>0.026221</td>\n",
       "      <td>-0.108612</td>\n",
       "      <td>-0.027273</td>\n",
       "      <td>-0.027936</td>\n",
       "      <td>-0.020839</td>\n",
       "      <td>0.019614</td>\n",
       "      <td>-0.244816</td>\n",
       "      <td>-0.147811</td>\n",
       "      <td>-0.148395</td>\n",
       "    </tr>\n",
       "    <tr>\n",
       "      <td>job</td>\n",
       "      <td>0.062045</td>\n",
       "      <td>0.166707</td>\n",
       "      <td>-0.082063</td>\n",
       "      <td>1.000000</td>\n",
       "      <td>0.011010</td>\n",
       "      <td>-0.092870</td>\n",
       "      <td>-0.125363</td>\n",
       "      <td>-0.033004</td>\n",
       "      <td>-0.085926</td>\n",
       "      <td>-0.006853</td>\n",
       "      <td>-0.021868</td>\n",
       "      <td>0.141655</td>\n",
       "      <td>0.018232</td>\n",
       "      <td>0.022856</td>\n",
       "      <td>0.004744</td>\n",
       "      <td>0.006839</td>\n",
       "      <td>-0.024455</td>\n",
       "      <td>-0.000911</td>\n",
       "      <td>0.040438</td>\n",
       "    </tr>\n",
       "    <tr>\n",
       "      <td>poutcome</td>\n",
       "      <td>-0.016850</td>\n",
       "      <td>-0.019361</td>\n",
       "      <td>0.272214</td>\n",
       "      <td>0.011010</td>\n",
       "      <td>1.000000</td>\n",
       "      <td>-0.033038</td>\n",
       "      <td>-0.099971</td>\n",
       "      <td>0.015458</td>\n",
       "      <td>0.011885</td>\n",
       "      <td>0.034898</td>\n",
       "      <td>0.007367</td>\n",
       "      <td>-0.005864</td>\n",
       "      <td>-0.020967</td>\n",
       "      <td>0.083460</td>\n",
       "      <td>0.010925</td>\n",
       "      <td>0.101588</td>\n",
       "      <td>-0.858362</td>\n",
       "      <td>-0.489752</td>\n",
       "      <td>-0.077840</td>\n",
       "    </tr>\n",
       "    <tr>\n",
       "      <td>month</td>\n",
       "      <td>-0.006991</td>\n",
       "      <td>-0.057304</td>\n",
       "      <td>0.361145</td>\n",
       "      <td>-0.092870</td>\n",
       "      <td>-0.033038</td>\n",
       "      <td>1.000000</td>\n",
       "      <td>0.271481</td>\n",
       "      <td>0.022145</td>\n",
       "      <td>0.031828</td>\n",
       "      <td>0.011486</td>\n",
       "      <td>-0.042357</td>\n",
       "      <td>-0.050723</td>\n",
       "      <td>0.019777</td>\n",
       "      <td>-0.006028</td>\n",
       "      <td>0.006314</td>\n",
       "      <td>-0.110031</td>\n",
       "      <td>0.033065</td>\n",
       "      <td>0.022727</td>\n",
       "      <td>-0.024471</td>\n",
       "    </tr>\n",
       "    <tr>\n",
       "      <td>housing</td>\n",
       "      <td>-0.016096</td>\n",
       "      <td>-0.090790</td>\n",
       "      <td>0.188123</td>\n",
       "      <td>-0.125363</td>\n",
       "      <td>-0.099971</td>\n",
       "      <td>0.271481</td>\n",
       "      <td>1.000000</td>\n",
       "      <td>0.041323</td>\n",
       "      <td>0.075543</td>\n",
       "      <td>-0.006025</td>\n",
       "      <td>-0.185513</td>\n",
       "      <td>-0.048965</td>\n",
       "      <td>-0.068768</td>\n",
       "      <td>-0.027982</td>\n",
       "      <td>0.005075</td>\n",
       "      <td>-0.023599</td>\n",
       "      <td>0.124178</td>\n",
       "      <td>0.037076</td>\n",
       "      <td>-0.139173</td>\n",
       "    </tr>\n",
       "    <tr>\n",
       "      <td>loan</td>\n",
       "      <td>-0.046893</td>\n",
       "      <td>-0.048574</td>\n",
       "      <td>-0.010873</td>\n",
       "      <td>-0.033004</td>\n",
       "      <td>0.015458</td>\n",
       "      <td>0.022145</td>\n",
       "      <td>0.041323</td>\n",
       "      <td>1.000000</td>\n",
       "      <td>0.066297</td>\n",
       "      <td>0.077234</td>\n",
       "      <td>-0.015655</td>\n",
       "      <td>0.017749</td>\n",
       "      <td>-0.084350</td>\n",
       "      <td>0.011370</td>\n",
       "      <td>-0.012412</td>\n",
       "      <td>0.009980</td>\n",
       "      <td>-0.022754</td>\n",
       "      <td>-0.011043</td>\n",
       "      <td>-0.068185</td>\n",
       "    </tr>\n",
       "    <tr>\n",
       "      <td>targeted</td>\n",
       "      <td>-0.219610</td>\n",
       "      <td>-0.627959</td>\n",
       "      <td>0.053247</td>\n",
       "      <td>-0.085926</td>\n",
       "      <td>0.011885</td>\n",
       "      <td>0.031828</td>\n",
       "      <td>0.075543</td>\n",
       "      <td>0.066297</td>\n",
       "      <td>1.000000</td>\n",
       "      <td>0.008825</td>\n",
       "      <td>0.113202</td>\n",
       "      <td>-0.222868</td>\n",
       "      <td>-0.040699</td>\n",
       "      <td>-0.012891</td>\n",
       "      <td>-0.010280</td>\n",
       "      <td>-0.002597</td>\n",
       "      <td>-0.004350</td>\n",
       "      <td>-0.013253</td>\n",
       "      <td>-0.069039</td>\n",
       "    </tr>\n",
       "    <tr>\n",
       "      <td>default</td>\n",
       "      <td>-0.007023</td>\n",
       "      <td>-0.010718</td>\n",
       "      <td>0.015404</td>\n",
       "      <td>-0.006853</td>\n",
       "      <td>0.034898</td>\n",
       "      <td>0.011486</td>\n",
       "      <td>-0.006025</td>\n",
       "      <td>0.077234</td>\n",
       "      <td>0.008825</td>\n",
       "      <td>1.000000</td>\n",
       "      <td>-0.017879</td>\n",
       "      <td>0.006860</td>\n",
       "      <td>-0.066745</td>\n",
       "      <td>0.009424</td>\n",
       "      <td>-0.010021</td>\n",
       "      <td>0.016822</td>\n",
       "      <td>-0.029979</td>\n",
       "      <td>-0.018329</td>\n",
       "      <td>-0.022419</td>\n",
       "    </tr>\n",
       "    <tr>\n",
       "      <td>age</td>\n",
       "      <td>-0.403240</td>\n",
       "      <td>-0.106807</td>\n",
       "      <td>0.026221</td>\n",
       "      <td>-0.021868</td>\n",
       "      <td>0.007367</td>\n",
       "      <td>-0.042357</td>\n",
       "      <td>-0.185513</td>\n",
       "      <td>-0.015655</td>\n",
       "      <td>0.113202</td>\n",
       "      <td>-0.017879</td>\n",
       "      <td>1.000000</td>\n",
       "      <td>0.024357</td>\n",
       "      <td>0.097783</td>\n",
       "      <td>-0.009120</td>\n",
       "      <td>-0.004648</td>\n",
       "      <td>0.004760</td>\n",
       "      <td>-0.023758</td>\n",
       "      <td>0.001288</td>\n",
       "      <td>0.025155</td>\n",
       "    </tr>\n",
       "    <tr>\n",
       "      <td>salary</td>\n",
       "      <td>-0.016633</td>\n",
       "      <td>0.425256</td>\n",
       "      <td>-0.108612</td>\n",
       "      <td>0.141655</td>\n",
       "      <td>-0.005864</td>\n",
       "      <td>-0.050723</td>\n",
       "      <td>-0.048965</td>\n",
       "      <td>0.017749</td>\n",
       "      <td>-0.222868</td>\n",
       "      <td>0.006860</td>\n",
       "      <td>0.024357</td>\n",
       "      <td>1.000000</td>\n",
       "      <td>0.055469</td>\n",
       "      <td>0.027864</td>\n",
       "      <td>-0.009937</td>\n",
       "      <td>0.015005</td>\n",
       "      <td>-0.014968</td>\n",
       "      <td>0.014564</td>\n",
       "      <td>0.020012</td>\n",
       "    </tr>\n",
       "    <tr>\n",
       "      <td>balance</td>\n",
       "      <td>0.002122</td>\n",
       "      <td>0.064514</td>\n",
       "      <td>-0.027273</td>\n",
       "      <td>0.018232</td>\n",
       "      <td>-0.020967</td>\n",
       "      <td>0.019777</td>\n",
       "      <td>-0.068768</td>\n",
       "      <td>-0.084350</td>\n",
       "      <td>-0.040699</td>\n",
       "      <td>-0.066745</td>\n",
       "      <td>0.097783</td>\n",
       "      <td>0.055469</td>\n",
       "      <td>1.000000</td>\n",
       "      <td>0.004503</td>\n",
       "      <td>0.021560</td>\n",
       "      <td>-0.014578</td>\n",
       "      <td>0.003435</td>\n",
       "      <td>0.016674</td>\n",
       "      <td>0.052838</td>\n",
       "    </tr>\n",
       "    <tr>\n",
       "      <td>day</td>\n",
       "      <td>-0.005261</td>\n",
       "      <td>0.022671</td>\n",
       "      <td>-0.027936</td>\n",
       "      <td>0.022856</td>\n",
       "      <td>0.083460</td>\n",
       "      <td>-0.006028</td>\n",
       "      <td>-0.027982</td>\n",
       "      <td>0.011370</td>\n",
       "      <td>-0.012891</td>\n",
       "      <td>0.009424</td>\n",
       "      <td>-0.009120</td>\n",
       "      <td>0.027864</td>\n",
       "      <td>0.004503</td>\n",
       "      <td>1.000000</td>\n",
       "      <td>-0.030206</td>\n",
       "      <td>0.162490</td>\n",
       "      <td>-0.093044</td>\n",
       "      <td>-0.051710</td>\n",
       "      <td>-0.028348</td>\n",
       "    </tr>\n",
       "    <tr>\n",
       "      <td>duration</td>\n",
       "      <td>0.011852</td>\n",
       "      <td>0.001935</td>\n",
       "      <td>-0.020839</td>\n",
       "      <td>0.004744</td>\n",
       "      <td>0.010925</td>\n",
       "      <td>0.006314</td>\n",
       "      <td>0.005075</td>\n",
       "      <td>-0.012412</td>\n",
       "      <td>-0.010280</td>\n",
       "      <td>-0.010021</td>\n",
       "      <td>-0.004648</td>\n",
       "      <td>-0.009937</td>\n",
       "      <td>0.021560</td>\n",
       "      <td>-0.030206</td>\n",
       "      <td>1.000000</td>\n",
       "      <td>-0.084570</td>\n",
       "      <td>-0.001565</td>\n",
       "      <td>0.001203</td>\n",
       "      <td>0.394521</td>\n",
       "    </tr>\n",
       "    <tr>\n",
       "      <td>campaign</td>\n",
       "      <td>-0.008994</td>\n",
       "      <td>0.006255</td>\n",
       "      <td>0.019614</td>\n",
       "      <td>0.006839</td>\n",
       "      <td>0.101588</td>\n",
       "      <td>-0.110031</td>\n",
       "      <td>-0.023599</td>\n",
       "      <td>0.009980</td>\n",
       "      <td>-0.002597</td>\n",
       "      <td>0.016822</td>\n",
       "      <td>0.004760</td>\n",
       "      <td>0.015005</td>\n",
       "      <td>-0.014578</td>\n",
       "      <td>0.162490</td>\n",
       "      <td>-0.084570</td>\n",
       "      <td>1.000000</td>\n",
       "      <td>-0.088628</td>\n",
       "      <td>-0.032855</td>\n",
       "      <td>-0.073172</td>\n",
       "    </tr>\n",
       "    <tr>\n",
       "      <td>pdays</td>\n",
       "      <td>0.019172</td>\n",
       "      <td>0.000052</td>\n",
       "      <td>-0.244816</td>\n",
       "      <td>-0.024455</td>\n",
       "      <td>-0.858362</td>\n",
       "      <td>0.033065</td>\n",
       "      <td>0.124178</td>\n",
       "      <td>-0.022754</td>\n",
       "      <td>-0.004350</td>\n",
       "      <td>-0.029979</td>\n",
       "      <td>-0.023758</td>\n",
       "      <td>-0.014968</td>\n",
       "      <td>0.003435</td>\n",
       "      <td>-0.093044</td>\n",
       "      <td>-0.001565</td>\n",
       "      <td>-0.088628</td>\n",
       "      <td>1.000000</td>\n",
       "      <td>0.454820</td>\n",
       "      <td>0.103621</td>\n",
       "    </tr>\n",
       "    <tr>\n",
       "      <td>previous</td>\n",
       "      <td>0.014973</td>\n",
       "      <td>0.017570</td>\n",
       "      <td>-0.147811</td>\n",
       "      <td>-0.000911</td>\n",
       "      <td>-0.489752</td>\n",
       "      <td>0.022727</td>\n",
       "      <td>0.037076</td>\n",
       "      <td>-0.011043</td>\n",
       "      <td>-0.013253</td>\n",
       "      <td>-0.018329</td>\n",
       "      <td>0.001288</td>\n",
       "      <td>0.014564</td>\n",
       "      <td>0.016674</td>\n",
       "      <td>-0.051710</td>\n",
       "      <td>0.001203</td>\n",
       "      <td>-0.032855</td>\n",
       "      <td>0.454820</td>\n",
       "      <td>1.000000</td>\n",
       "      <td>0.093236</td>\n",
       "    </tr>\n",
       "    <tr>\n",
       "      <td>response</td>\n",
       "      <td>0.045588</td>\n",
       "      <td>0.066241</td>\n",
       "      <td>-0.148395</td>\n",
       "      <td>0.040438</td>\n",
       "      <td>-0.077840</td>\n",
       "      <td>-0.024471</td>\n",
       "      <td>-0.139173</td>\n",
       "      <td>-0.068185</td>\n",
       "      <td>-0.069039</td>\n",
       "      <td>-0.022419</td>\n",
       "      <td>0.025155</td>\n",
       "      <td>0.020012</td>\n",
       "      <td>0.052838</td>\n",
       "      <td>-0.028348</td>\n",
       "      <td>0.394521</td>\n",
       "      <td>-0.073172</td>\n",
       "      <td>0.103621</td>\n",
       "      <td>0.093236</td>\n",
       "      <td>1.000000</td>\n",
       "    </tr>\n",
       "  </tbody>\n",
       "</table>\n",
       "</div>"
      ],
      "text/plain": [
       "            marital  education   contact       job  poutcome     month  \\\n",
       "marital    1.000000   0.108576 -0.039201  0.062045 -0.016850 -0.006991   \n",
       "education  0.108576   1.000000 -0.110928  0.166707 -0.019361 -0.057304   \n",
       "contact   -0.039201  -0.110928  1.000000 -0.082063  0.272214  0.361145   \n",
       "job        0.062045   0.166707 -0.082063  1.000000  0.011010 -0.092870   \n",
       "poutcome  -0.016850  -0.019361  0.272214  0.011010  1.000000 -0.033038   \n",
       "month     -0.006991  -0.057304  0.361145 -0.092870 -0.033038  1.000000   \n",
       "housing   -0.016096  -0.090790  0.188123 -0.125363 -0.099971  0.271481   \n",
       "loan      -0.046893  -0.048574 -0.010873 -0.033004  0.015458  0.022145   \n",
       "targeted  -0.219610  -0.627959  0.053247 -0.085926  0.011885  0.031828   \n",
       "default   -0.007023  -0.010718  0.015404 -0.006853  0.034898  0.011486   \n",
       "age       -0.403240  -0.106807  0.026221 -0.021868  0.007367 -0.042357   \n",
       "salary    -0.016633   0.425256 -0.108612  0.141655 -0.005864 -0.050723   \n",
       "balance    0.002122   0.064514 -0.027273  0.018232 -0.020967  0.019777   \n",
       "day       -0.005261   0.022671 -0.027936  0.022856  0.083460 -0.006028   \n",
       "duration   0.011852   0.001935 -0.020839  0.004744  0.010925  0.006314   \n",
       "campaign  -0.008994   0.006255  0.019614  0.006839  0.101588 -0.110031   \n",
       "pdays      0.019172   0.000052 -0.244816 -0.024455 -0.858362  0.033065   \n",
       "previous   0.014973   0.017570 -0.147811 -0.000911 -0.489752  0.022727   \n",
       "response   0.045588   0.066241 -0.148395  0.040438 -0.077840 -0.024471   \n",
       "\n",
       "            housing      loan  targeted   default       age    salary  \\\n",
       "marital   -0.016096 -0.046893 -0.219610 -0.007023 -0.403240 -0.016633   \n",
       "education -0.090790 -0.048574 -0.627959 -0.010718 -0.106807  0.425256   \n",
       "contact    0.188123 -0.010873  0.053247  0.015404  0.026221 -0.108612   \n",
       "job       -0.125363 -0.033004 -0.085926 -0.006853 -0.021868  0.141655   \n",
       "poutcome  -0.099971  0.015458  0.011885  0.034898  0.007367 -0.005864   \n",
       "month      0.271481  0.022145  0.031828  0.011486 -0.042357 -0.050723   \n",
       "housing    1.000000  0.041323  0.075543 -0.006025 -0.185513 -0.048965   \n",
       "loan       0.041323  1.000000  0.066297  0.077234 -0.015655  0.017749   \n",
       "targeted   0.075543  0.066297  1.000000  0.008825  0.113202 -0.222868   \n",
       "default   -0.006025  0.077234  0.008825  1.000000 -0.017879  0.006860   \n",
       "age       -0.185513 -0.015655  0.113202 -0.017879  1.000000  0.024357   \n",
       "salary    -0.048965  0.017749 -0.222868  0.006860  0.024357  1.000000   \n",
       "balance   -0.068768 -0.084350 -0.040699 -0.066745  0.097783  0.055469   \n",
       "day       -0.027982  0.011370 -0.012891  0.009424 -0.009120  0.027864   \n",
       "duration   0.005075 -0.012412 -0.010280 -0.010021 -0.004648 -0.009937   \n",
       "campaign  -0.023599  0.009980 -0.002597  0.016822  0.004760  0.015005   \n",
       "pdays      0.124178 -0.022754 -0.004350 -0.029979 -0.023758 -0.014968   \n",
       "previous   0.037076 -0.011043 -0.013253 -0.018329  0.001288  0.014564   \n",
       "response  -0.139173 -0.068185 -0.069039 -0.022419  0.025155  0.020012   \n",
       "\n",
       "            balance       day  duration  campaign     pdays  previous  \\\n",
       "marital    0.002122 -0.005261  0.011852 -0.008994  0.019172  0.014973   \n",
       "education  0.064514  0.022671  0.001935  0.006255  0.000052  0.017570   \n",
       "contact   -0.027273 -0.027936 -0.020839  0.019614 -0.244816 -0.147811   \n",
       "job        0.018232  0.022856  0.004744  0.006839 -0.024455 -0.000911   \n",
       "poutcome  -0.020967  0.083460  0.010925  0.101588 -0.858362 -0.489752   \n",
       "month      0.019777 -0.006028  0.006314 -0.110031  0.033065  0.022727   \n",
       "housing   -0.068768 -0.027982  0.005075 -0.023599  0.124178  0.037076   \n",
       "loan      -0.084350  0.011370 -0.012412  0.009980 -0.022754 -0.011043   \n",
       "targeted  -0.040699 -0.012891 -0.010280 -0.002597 -0.004350 -0.013253   \n",
       "default   -0.066745  0.009424 -0.010021  0.016822 -0.029979 -0.018329   \n",
       "age        0.097783 -0.009120 -0.004648  0.004760 -0.023758  0.001288   \n",
       "salary     0.055469  0.027864 -0.009937  0.015005 -0.014968  0.014564   \n",
       "balance    1.000000  0.004503  0.021560 -0.014578  0.003435  0.016674   \n",
       "day        0.004503  1.000000 -0.030206  0.162490 -0.093044 -0.051710   \n",
       "duration   0.021560 -0.030206  1.000000 -0.084570 -0.001565  0.001203   \n",
       "campaign  -0.014578  0.162490 -0.084570  1.000000 -0.088628 -0.032855   \n",
       "pdays      0.003435 -0.093044 -0.001565 -0.088628  1.000000  0.454820   \n",
       "previous   0.016674 -0.051710  0.001203 -0.032855  0.454820  1.000000   \n",
       "response   0.052838 -0.028348  0.394521 -0.073172  0.103621  0.093236   \n",
       "\n",
       "           response  \n",
       "marital    0.045588  \n",
       "education  0.066241  \n",
       "contact   -0.148395  \n",
       "job        0.040438  \n",
       "poutcome  -0.077840  \n",
       "month     -0.024471  \n",
       "housing   -0.139173  \n",
       "loan      -0.068185  \n",
       "targeted  -0.069039  \n",
       "default   -0.022419  \n",
       "age        0.025155  \n",
       "salary     0.020012  \n",
       "balance    0.052838  \n",
       "day       -0.028348  \n",
       "duration   0.394521  \n",
       "campaign  -0.073172  \n",
       "pdays      0.103621  \n",
       "previous   0.093236  \n",
       "response   1.000000  "
      ]
     },
     "execution_count": 36,
     "metadata": {},
     "output_type": "execute_result"
    },
    {
     "data": {
      "image/png": "[encoded data removed]",
      "text/plain": [
       "<Figure size 1440x1440 with 2 Axes>"
      ]
     },
     "metadata": {
      "needs_background": "light"
     },
     "output_type": "display_data"
    }
   ],
   "source": [
    "# Here we see the correlation of all numerical join data\n",
    "plt.figure(figsize=(20,20))\n",
    "sns.heatmap(dataA.corr(),square=True,annot=True,cmap= 'Spectral')\n",
    "dataA.corr()"
   ]
  },
  {
   "cell_type": "markdown",
   "metadata": {},
   "source": [
    "## <span style=\"color:Orange\"> Predictive model 1: Logistic regression </span> "
   ]
  },
  {
   "cell_type": "markdown",
   "metadata": {},
   "source": [
    "## Make a predictive model using logistic regression "
   ]
  },
  {
   "cell_type": "code",
   "execution_count": 37,
   "metadata": {},
   "outputs": [],
   "source": [
    "from sklearn.linear_model import LogisticRegression\n",
    "from sklearn.model_selection import train_test_split\n",
    "from sklearn.metrics import classification_report\n",
    "from sklearn.metrics import confusion_matrix\n",
    "from sklearn.metrics import f1_score\n",
    "from sklearn.model_selection import cross_val_score\n",
    "from sklearn.metrics import roc_auc_score\n",
    "import statsmodels.api as sm\n",
    "from sklearn.metrics import accuracy_score"
   ]
  },
  {
   "cell_type": "markdown",
   "metadata": {},
   "source": [
    "## All Single feature with Logistic Regression"
   ]
  },
  {
   "cell_type": "code",
   "execution_count": 38,
   "metadata": {},
   "outputs": [
    {
     "name": "stdout",
     "output_type": "stream",
     "text": [
      "F1 Score for marital 0.0\n",
      "F1 Score for education 0.0\n",
      "F1 Score for contact 0.0\n",
      "F1 Score for job 0.0\n",
      "F1 Score for poutcome 0.0\n",
      "F1 Score for month 0.0\n",
      "F1 Score for housing 0.0\n",
      "F1 Score for loan 0.0\n",
      "F1 Score for targeted 0.0\n",
      "F1 Score for default 0.0\n",
      "F1 Score for age 0.0\n",
      "F1 Score for salary 0.0\n",
      "F1 Score for balance 0.0024984384759525295\n",
      "F1 Score for day 0.0\n",
      "F1 Score for duration 0.25909317389138015\n",
      "F1 Score for campaign 0.0\n",
      "F1 Score for pdays 0.0\n",
      "F1 Score for previous 0.004932182490752157\n",
      "F1 Score for response 1.0\n"
     ]
    }
   ],
   "source": [
    "\n",
    "for i in dataA.columns:\n",
    "    X = dataA[[i]]\n",
    "    y = dataA['response']\n",
    "    X_train,X_test,y_train,y_test = train_test_split(X,y,test_size = 0.3,random_state=101)\n",
    "    lr = LogisticRegression()\n",
    "    lr.fit(X_train,y_train)\n",
    "    y_pred = lr.predict(X_test)\n",
    "    print(\"F1 Score for\", i , f1_score(y_pred,y_test))"
   ]
  },
  {
   "cell_type": "markdown",
   "metadata": {},
   "source": [
    "## All Features"
   ]
  },
  {
   "cell_type": "code",
   "execution_count": 10,
   "metadata": {},
   "outputs": [
    {
     "ename": "NameError",
     "evalue": "name 'dataA' is not defined",
     "output_type": "error",
     "traceback": [
      "\u001b[1;31m---------------------------------------------------------------------------\u001b[0m",
      "\u001b[1;31mNameError\u001b[0m                                 Traceback (most recent call last)",
      "\u001b[1;32m<ipython-input-10-8b8598940f67>\u001b[0m in \u001b[0;36m<module>\u001b[1;34m\u001b[0m\n\u001b[1;32m----> 1\u001b[1;33m \u001b[0mX\u001b[0m \u001b[1;33m=\u001b[0m \u001b[0mdataA\u001b[0m\u001b[1;33m.\u001b[0m\u001b[0mdrop\u001b[0m\u001b[1;33m(\u001b[0m\u001b[1;34m'response'\u001b[0m\u001b[1;33m,\u001b[0m\u001b[0maxis\u001b[0m\u001b[1;33m=\u001b[0m\u001b[1;36m1\u001b[0m\u001b[1;33m)\u001b[0m\u001b[1;33m\u001b[0m\u001b[1;33m\u001b[0m\u001b[0m\n\u001b[0m\u001b[0;32m      2\u001b[0m \u001b[0my\u001b[0m \u001b[1;33m=\u001b[0m \u001b[0mdataA\u001b[0m\u001b[1;33m[\u001b[0m\u001b[1;34m'response'\u001b[0m\u001b[1;33m]\u001b[0m\u001b[1;33m\u001b[0m\u001b[1;33m\u001b[0m\u001b[0m\n",
      "\u001b[1;31mNameError\u001b[0m: name 'dataA' is not defined"
     ]
    }
   ],
   "source": [
    "X = dataA.drop('response',axis=1)\n",
    "y = dataA['response']"
   ]
  },
  {
   "cell_type": "code",
   "execution_count": 40,
   "metadata": {},
   "outputs": [],
   "source": [
    "\n",
    "X_train,X_test,y_train,y_test = train_test_split(X,y,test_size = 0.3,random_state=101)\n",
    "lr = LogisticRegression(random_state=101)\n",
    "lr.fit(X_train,y_train)\n",
    "y_pred = lr.predict(X_test)\n"
   ]
  },
  {
   "cell_type": "code",
   "execution_count": 41,
   "metadata": {},
   "outputs": [
    {
     "name": "stdout",
     "output_type": "stream",
     "text": [
      "Report:\n",
      "               precision    recall  f1-score   support\n",
      "\n",
      "           0       0.90      0.99      0.94     11967\n",
      "           1       0.61      0.16      0.26      1597\n",
      "\n",
      "    accuracy                           0.89     13564\n",
      "   macro avg       0.75      0.58      0.60     13564\n",
      "weighted avg       0.86      0.89      0.86     13564\n",
      "\n",
      "F1 Score: 0.25924100542138984\n",
      "confusion Matrix:\n",
      " [[11798  1334]\n",
      " [  169   263]]\n",
      "cross validation: [0.89914851 0.8921818  0.87989383 0.8318956  0.86627585]\n"
     ]
    }
   ],
   "source": [
    "print('Report:\\n',classification_report(y_test, y_pred))\n",
    "print(\"F1 Score:\",f1_score(y_pred,y_test))\n",
    "print('confusion Matrix:\\n',confusion_matrix(y_pred,y_test))\n",
    "print('cross validation:',cross_val_score(lr, X, y, cv=5))"
   ]
  },
  {
   "cell_type": "markdown",
   "metadata": {},
   "source": [
    "## Using p values and VIF, get rid of the redundant features"
   ]
  },
  {
   "cell_type": "code",
   "execution_count": 42,
   "metadata": {},
   "outputs": [
    {
     "name": "stdout",
     "output_type": "stream",
     "text": [
      "\u001b[1m\n",
      "                                 OLS Regression Results                                \n",
      "=======================================================================================\n",
      "Dep. Variable:               response   R-squared (uncentered):                   0.303\n",
      "Model:                            OLS   Adj. R-squared (uncentered):              0.303\n",
      "Method:                 Least Squares   F-statistic:                              1093.\n",
      "Date:                Sun, 17 May 2020   Prob (F-statistic):                        0.00\n",
      "Time:                        01:42:26   Log-Likelihood:                         -7476.0\n",
      "No. Observations:               45211   AIC:                                  1.499e+04\n",
      "Df Residuals:                   45193   BIC:                                  1.515e+04\n",
      "Df Model:                          18                                                  \n",
      "Covariance Type:            nonrobust                                                  \n",
      "==============================================================================\n",
      "                 coef    std err          t      P>|t|      [0.025      0.975]\n",
      "------------------------------------------------------------------------------\n",
      "marital        0.0095      0.002      4.304      0.000       0.005       0.014\n",
      "education      0.0051      0.002      2.155      0.031       0.000       0.010\n",
      "contact       -0.0387      0.002    -22.500      0.000      -0.042      -0.035\n",
      "job            0.0009      0.000      2.087      0.037    5.31e-05       0.002\n",
      "poutcome       0.0187      0.002      8.394      0.000       0.014       0.023\n",
      "month          0.0045      0.000      9.079      0.000       0.003       0.005\n",
      "housing       -0.0876      0.003    -30.225      0.000      -0.093      -0.082\n",
      "loan          -0.0445      0.004    -12.043      0.000      -0.052      -0.037\n",
      "targeted      -0.0355      0.004     -8.566      0.000      -0.044      -0.027\n",
      "default       -0.0223      0.010     -2.197      0.028      -0.042      -0.002\n",
      "age            0.0003      0.000      2.499      0.012    6.42e-05       0.001\n",
      "salary     -1.062e-07   4.67e-08     -2.274      0.023   -1.98e-07   -1.47e-08\n",
      "balance     2.316e-06   4.48e-07      5.167      0.000    1.44e-06     3.2e-06\n",
      "day           -0.0006      0.000     -3.495      0.000      -0.001      -0.000\n",
      "duration       0.0005   5.22e-06     92.041      0.000       0.000       0.000\n",
      "campaign      -0.0031      0.000     -7.019      0.000      -0.004      -0.002\n",
      "pdays          0.0004   2.29e-05     15.599      0.000       0.000       0.000\n",
      "previous       0.0075      0.001     11.327      0.000       0.006       0.009\n",
      "==============================================================================\n",
      "Omnibus:                    14161.534   Durbin-Watson:                   1.615\n",
      "Prob(Omnibus):                  0.000   Jarque-Bera (JB):            41532.570\n",
      "Skew:                           1.654   Prob(JB):                         0.00\n",
      "Kurtosis:                       6.331   Cond. No.                     4.95e+05\n",
      "==============================================================================\n",
      "\n",
      "Warnings:\n",
      "[1] Standard Errors assume that the covariance matrix of the errors is correctly specified.\n",
      "[2] The condition number is large, 4.95e+05. This might indicate that there are\n",
      "strong multicollinearity or other numerical problems.\n"
     ]
    }
   ],
   "source": [
    "model = sm.OLS(y, X)\n",
    "results = model.fit()\n",
    "start = \"\\033[1m\" ### for bold text\n",
    "print(start)\n",
    "print(results.summary())"
   ]
  },
  {
   "cell_type": "markdown",
   "metadata": {},
   "source": [
    "## Using RFE"
   ]
  },
  {
   "cell_type": "code",
   "execution_count": 43,
   "metadata": {},
   "outputs": [
    {
     "data": {
      "text/plain": [
       "RFE(estimator=LogisticRegression(C=1.0, class_weight=None, dual=False,\n",
       "                                 fit_intercept=True, intercept_scaling=1,\n",
       "                                 l1_ratio=None, max_iter=100,\n",
       "                                 multi_class='warn', n_jobs=None, penalty='l2',\n",
       "                                 random_state=101, solver='warn', tol=0.0001,\n",
       "                                 verbose=0, warm_start=False),\n",
       "    n_features_to_select=15, step=1, verbose=0)"
      ]
     },
     "execution_count": 43,
     "metadata": {},
     "output_type": "execute_result"
    }
   ],
   "source": [
    "from sklearn.feature_selection import RFE\n",
    "rfe = RFE(lr, 15)\n",
    "rfe.fit(X_train,y_train)"
   ]
  },
  {
   "cell_type": "code",
   "execution_count": 44,
   "metadata": {},
   "outputs": [
    {
     "name": "stdout",
     "output_type": "stream",
     "text": [
      "Index(['marital', 'education', 'contact', 'job', 'poutcome', 'month',\n",
      "       'housing', 'loan', 'targeted', 'default', 'age', 'day', 'duration',\n",
      "       'campaign', 'previous'],\n",
      "      dtype='object')\n"
     ]
    }
   ],
   "source": [
    "print(X_train.columns[rfe.support_])\n",
    "cols = X_train.columns[rfe.support_]\n",
    "lr.fit(X_train[cols],y_train)\n",
    "y_pred2 = lr.predict(X_test[cols])\n"
   ]
  },
  {
   "cell_type": "markdown",
   "metadata": {},
   "source": [
    "### Estimate the model performance using k fold cross validation. What is the precision, recall, accuracy of your model?"
   ]
  },
  {
   "cell_type": "code",
   "execution_count": 45,
   "metadata": {},
   "outputs": [],
   "source": [
    "def logReggResult():\n",
    "    print('Report:\\n',classification_report(y_test, y_pred2))\n",
    "    print(\"F1 Score:\",f1_score(y_pred2,y_test))\n",
    "    print('AUC score:',roc_auc_score(y_test,y_pred2))\n",
    "    print('confusion Matrix:\\n',confusion_matrix(y_pred2,y_test))\n",
    "    print('kfold cross validation:\\n',cross_val_score(lr, X, y, cv=5))\n",
    "    print(\"Acurracy :::>\",accuracy_score(y_pred2,y_test))"
   ]
  },
  {
   "cell_type": "code",
   "execution_count": 46,
   "metadata": {},
   "outputs": [
    {
     "name": "stdout",
     "output_type": "stream",
     "text": [
      "Report:\n",
      "               precision    recall  f1-score   support\n",
      "\n",
      "           0       0.90      0.98      0.94     11967\n",
      "           1       0.63      0.21      0.32      1597\n",
      "\n",
      "    accuracy                           0.89     13564\n",
      "   macro avg       0.77      0.60      0.63     13564\n",
      "weighted avg       0.87      0.89      0.87     13564\n",
      "\n",
      "F1 Score: 0.316580554250822\n",
      "AUC score: 0.5973629265075073\n",
      "confusion Matrix:\n",
      " [[11772  1260]\n",
      " [  195   337]]\n",
      "kfold cross validation:\n",
      " [0.89914851 0.8921818  0.87989383 0.8318956  0.86627585]\n",
      "Acurracy :::> 0.8927307578885284\n"
     ]
    }
   ],
   "source": [
    "logReggResult()"
   ]
  },
  {
   "cell_type": "markdown",
   "metadata": {},
   "source": [
    "## Which features are the most important from your model?"
   ]
  },
  {
   "cell_type": "code",
   "execution_count": 47,
   "metadata": {},
   "outputs": [
    {
     "data": {
      "text/plain": [
       "Index(['marital', 'contact', 'poutcome', 'month', 'housing', 'targeted',\n",
       "       'campaign', 'previous'],\n",
       "      dtype='object')"
      ]
     },
     "execution_count": 47,
     "metadata": {},
     "output_type": "execute_result"
    }
   ],
   "source": [
    "from sklearn.feature_selection import SelectFromModel\n",
    "smf = SelectFromModel(lr)\n",
    "smf.fit(X_train,y_train)\n",
    "features = smf.get_support()\n",
    "feature_name = X_train.columns[features]\n",
    "feature_name"
   ]
  },
  {
   "cell_type": "code",
   "execution_count": 48,
   "metadata": {},
   "outputs": [
    {
     "data": {
      "image/png": "[encoded data removed]",
      "text/plain": [
       "<Figure size 432x288 with 1 Axes>"
      ]
     },
     "metadata": {
      "needs_background": "light"
     },
     "output_type": "display_data"
    }
   ],
   "source": [
    "importances=feature_name\n",
    "feature_importances=pd.Series(importances).sort_values(ascending=False)\n",
    "sns.barplot(x=feature_importances[0:10], y=feature_importances.index[0:10])\n",
    "plt.title('Feature Importance',size=20)\n",
    "plt.ylabel(\"Features\")\n",
    "plt.show()"
   ]
  },
  {
   "cell_type": "markdown",
   "metadata": {},
   "source": [
    "## <span style=\"color:Orange\"> Predictive model 2: Random Forest </span>"
   ]
  },
  {
   "cell_type": "code",
   "execution_count": 49,
   "metadata": {},
   "outputs": [],
   "source": [
    "from sklearn.ensemble import RandomForestClassifier"
   ]
  },
  {
   "cell_type": "code",
   "execution_count": 50,
   "metadata": {},
   "outputs": [],
   "source": [
    "X = dataA.drop('response', axis = 1)\n",
    "y = dataA['response']\n",
    "X_train,X_test,y_train,y_test = train_test_split(X,y,test_size = 0.3, random_state = 101)"
   ]
  },
  {
   "cell_type": "markdown",
   "metadata": {},
   "source": [
    "### Use not more than 50 trees, and control the depth of the trees to prevent overfitting"
   ]
  },
  {
   "cell_type": "code",
   "execution_count": 51,
   "metadata": {},
   "outputs": [
    {
     "data": {
      "text/plain": [
       "RandomForestClassifier(bootstrap=True, class_weight=None, criterion='gini',\n",
       "                       max_depth=5, max_features='auto', max_leaf_nodes=50,\n",
       "                       min_impurity_decrease=0.0, min_impurity_split=None,\n",
       "                       min_samples_leaf=1, min_samples_split=2,\n",
       "                       min_weight_fraction_leaf=0.0, n_estimators=50,\n",
       "                       n_jobs=None, oob_score=False, random_state=101,\n",
       "                       verbose=0, warm_start=False)"
      ]
     },
     "execution_count": 51,
     "metadata": {},
     "output_type": "execute_result"
    }
   ],
   "source": [
    "rfc = RandomForestClassifier(n_estimators=50,max_depth=5, random_state=101,max_leaf_nodes=50)\n",
    "rfc.fit(X_train,y_train)"
   ]
  },
  {
   "cell_type": "code",
   "execution_count": 1,
   "metadata": {},
   "outputs": [
    {
     "ename": "NameError",
     "evalue": "name 'rfc' is not defined",
     "output_type": "error",
     "traceback": [
      "\u001b[1;31m---------------------------------------------------------------------------\u001b[0m",
      "\u001b[1;31mNameError\u001b[0m                                 Traceback (most recent call last)",
      "\u001b[1;32m<ipython-input-1-827b02b6ba85>\u001b[0m in \u001b[0;36m<module>\u001b[1;34m\u001b[0m\n\u001b[1;32m----> 1\u001b[1;33m \u001b[0my_pred1\u001b[0m \u001b[1;33m=\u001b[0m \u001b[0mrfc\u001b[0m\u001b[1;33m.\u001b[0m\u001b[0mpredict\u001b[0m\u001b[1;33m(\u001b[0m\u001b[0mX_test\u001b[0m\u001b[1;33m)\u001b[0m\u001b[1;33m\u001b[0m\u001b[1;33m\u001b[0m\u001b[0m\n\u001b[0m\u001b[0;32m      2\u001b[0m \u001b[0my_pred1\u001b[0m\u001b[1;33m\u001b[0m\u001b[1;33m\u001b[0m\u001b[0m\n",
      "\u001b[1;31mNameError\u001b[0m: name 'rfc' is not defined"
     ]
    }
   ],
   "source": [
    "y_pred1 = rfc.predict(X_test)\n"
   ]
  },
  {
   "cell_type": "markdown",
   "metadata": {},
   "source": [
    "### Estimate the model performance using k fold cross validation.What is the precision, recall, accuracy of your model?"
   ]
  },
  {
   "cell_type": "code",
   "execution_count": 53,
   "metadata": {},
   "outputs": [],
   "source": [
    "def RF():\n",
    "    print('Report:\\n',classification_report(y_test, y_pred1))\n",
    "    print(\"F1 Score:\",f1_score(y_pred1,y_test))\n",
    "    print('confusion Matrix:\\n',confusion_matrix(y_pred1,y_test))\n",
    "    print('kfold cross validation:',cross_val_score(rfc, X, y, cv=5))\n",
    "    print('AUC score:',roc_auc_score(y_test,y_pred))\n",
    "    print(\"Acurracy :::>\",accuracy_score(y_pred,y_test))"
   ]
  },
  {
   "cell_type": "code",
   "execution_count": 54,
   "metadata": {},
   "outputs": [
    {
     "name": "stdout",
     "output_type": "stream",
     "text": [
      "Report:\n",
      "               precision    recall  f1-score   support\n",
      "\n",
      "           0       0.89      1.00      0.94     11967\n",
      "           1       0.87      0.08      0.15      1597\n",
      "\n",
      "    accuracy                           0.89     13564\n",
      "   macro avg       0.88      0.54      0.55     13564\n",
      "weighted avg       0.89      0.89      0.85     13564\n",
      "\n",
      "F1 Score: 0.1540216771249287\n",
      "confusion Matrix:\n",
      " [[11946  1462]\n",
      " [   21   135]]\n",
      "kfold cross validation: [0.88300343 0.88322459 0.87447467 0.68867507 0.8195996 ]\n",
      "AUC score: 0.5752808063962581\n",
      "Acurracy :::> 0.8891919787673253\n"
     ]
    }
   ],
   "source": [
    "RF()"
   ]
  },
  {
   "cell_type": "code",
   "execution_count": 55,
   "metadata": {},
   "outputs": [
    {
     "data": {
      "image/png": "[encoded data removed]",
      "text/plain": [
       "<Figure size 432x288 with 1 Axes>"
      ]
     },
     "metadata": {
      "needs_background": "light"
     },
     "output_type": "display_data"
    }
   ],
   "source": [
    "importances=rfc.feature_importances_\n",
    "feature_importances=pd.Series(importances, index=X_train.columns).sort_values(ascending=False)\n",
    "sns.barplot(x=feature_importances[0:10], y=feature_importances.index[0:10])\n",
    "plt.title('Feature Importance',size=20)\n",
    "plt.ylabel(\"Features\")\n",
    "plt.show()"
   ]
  },
  {
   "cell_type": "markdown",
   "metadata": {},
   "source": [
    "## Evaluate both models on the test set.Which metric did you choose and why?  "
   ]
  },
  {
   "cell_type": "markdown",
   "metadata": {},
   "source": [
    "* We choose F1 Score and Confustion Matrix for the Final comparision of both Models because the Target Variable is imbalanced. So, Precision and Recall can be the main factor for evaluation model and we get the harmonic mean for the same in form of F1 score"
   ]
  },
  {
   "cell_type": "code",
   "execution_count": 56,
   "metadata": {},
   "outputs": [
    {
     "name": "stdout",
     "output_type": "stream",
     "text": [
      "\u001b[1m\n",
      "\n",
      "************* Logistic Regression Result: ***************\n",
      "\n",
      "Report:\n",
      "               precision    recall  f1-score   support\n",
      "\n",
      "           0       0.90      0.98      0.94     11967\n",
      "           1       0.63      0.21      0.32      1597\n",
      "\n",
      "    accuracy                           0.89     13564\n",
      "   macro avg       0.77      0.60      0.63     13564\n",
      "weighted avg       0.87      0.89      0.87     13564\n",
      "\n",
      "F1 Score: 0.316580554250822\n",
      "AUC score: 0.5973629265075073\n",
      "confusion Matrix:\n",
      " [[11772  1260]\n",
      " [  195   337]]\n",
      "kfold cross validation:\n",
      " [0.89914851 0.8921818  0.87989383 0.8318956  0.86627585]\n",
      "Acurracy :::> 0.8927307578885284\n",
      "\u001b[1m\n",
      "\n",
      "************* Random Forest Result: ***************\n",
      "\n",
      "Report:\n",
      "               precision    recall  f1-score   support\n",
      "\n",
      "           0       0.89      1.00      0.94     11967\n",
      "           1       0.87      0.08      0.15      1597\n",
      "\n",
      "    accuracy                           0.89     13564\n",
      "   macro avg       0.88      0.54      0.55     13564\n",
      "weighted avg       0.89      0.89      0.85     13564\n",
      "\n",
      "F1 Score: 0.1540216771249287\n",
      "confusion Matrix:\n",
      " [[11946  1462]\n",
      " [   21   135]]\n",
      "kfold cross validation: [0.88300343 0.88322459 0.87447467 0.68867507 0.8195996 ]\n",
      "AUC score: 0.5752808063962581\n",
      "Acurracy :::> 0.8891919787673253\n"
     ]
    }
   ],
   "source": [
    "print(start +'\\n\\n************* Logistic Regression Result: ***************\\n')\n",
    "logReggResult()\n",
    "\n",
    "\n",
    "print (start +'\\n\\n************* Random Forest Result: ***************\\n')\n",
    "RF()"
   ]
  },
  {
   "cell_type": "markdown",
   "metadata": {},
   "source": [
    "### Which model has better performance on the test set?"
   ]
  },
  {
   "cell_type": "markdown",
   "metadata": {},
   "source": [
    "* Logistic Regression has Perfomed better in comparision to Random Forest.\n",
    "* Logistic Regression has Better F1 score, AUC, Confusion Matrix, kfold Cross validation and accuracy in comparison to Random Forest."
   ]
  },
  {
   "cell_type": "markdown",
   "metadata": {},
   "source": [
    "### Compare the feature importance from the different models – do they agree? Are the top features similar in both models "
   ]
  },
  {
   "cell_type": "markdown",
   "metadata": {},
   "source": [
    "* The top features varies in both the models as the working principle of both the models are different."
   ]
  }
 ],
 "metadata": {
  "kernelspec": {
   "display_name": "Python 3",
   "language": "python",
   "name": "python3"
  },
  "language_info": {
   "codemirror_mode": {
    "name": "ipython",
    "version": 3
   },
   "file_extension": ".py",
   "mimetype": "text/x-python",
   "name": "python",
   "nbconvert_exporter": "python",
   "pygments_lexer": "ipython3",
   "version": "3.7.2"
  }
 },
 "nbformat": 4,
 "nbformat_minor": 2
}
